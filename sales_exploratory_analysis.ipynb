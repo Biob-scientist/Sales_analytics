{
 "cells": [
  {
   "cell_type": "code",
   "execution_count": 1,
   "id": "41e9cd28-55cb-4b93-bf69-4dee2bc6be5e",
   "metadata": {},
   "outputs": [],
   "source": [
    "import pandas as pd\n",
    "import numpy as np\n",
    "import seaborn as sns\n",
    "from matplotlib import pyplot as plt\n"
   ]
  },
  {
   "cell_type": "code",
   "execution_count": 2,
   "id": "aaf1c2b1-bd47-4da1-906b-6669896658c5",
   "metadata": {},
   "outputs": [],
   "source": [
    "df=pd.read_excel(io='sales_rep.xlsx',sheet_name='sales_data_sample')\n",
    "df2=pd.read_excel(io='sales_rep.xlsx',sheet_name='Sales_rep',)"
   ]
  },
  {
   "cell_type": "code",
   "execution_count": 3,
   "id": "6a201bfb-1df6-4edc-a223-27e87202e83a",
   "metadata": {},
   "outputs": [
    {
     "data": {
      "text/html": [
       "<div>\n",
       "<style scoped>\n",
       "    .dataframe tbody tr th:only-of-type {\n",
       "        vertical-align: middle;\n",
       "    }\n",
       "\n",
       "    .dataframe tbody tr th {\n",
       "        vertical-align: top;\n",
       "    }\n",
       "\n",
       "    .dataframe thead th {\n",
       "        text-align: right;\n",
       "    }\n",
       "</style>\n",
       "<table border=\"1\" class=\"dataframe\">\n",
       "  <thead>\n",
       "    <tr style=\"text-align: right;\">\n",
       "      <th></th>\n",
       "      <th>ORDERNUMBER</th>\n",
       "      <th>QUANTITYORDERED</th>\n",
       "      <th>PRICEEACH</th>\n",
       "      <th>ORDERLINENUMBER</th>\n",
       "      <th>SALES</th>\n",
       "      <th>ORDERDATE</th>\n",
       "      <th>STATUS</th>\n",
       "      <th>PRODUCTLINE</th>\n",
       "      <th>MSRP</th>\n",
       "      <th>PRODUCTCODE</th>\n",
       "      <th>CUSTOMERNAME</th>\n",
       "      <th>CITY</th>\n",
       "      <th>POSTALCODE</th>\n",
       "      <th>COUNTRY</th>\n",
       "      <th>DEALSIZE</th>\n",
       "    </tr>\n",
       "  </thead>\n",
       "  <tbody>\n",
       "    <tr>\n",
       "      <th>0</th>\n",
       "      <td>10223</td>\n",
       "      <td>37</td>\n",
       "      <td>100.0</td>\n",
       "      <td>1</td>\n",
       "      <td>3965.66</td>\n",
       "      <td>2/20/2004 0:00</td>\n",
       "      <td>Shipped</td>\n",
       "      <td>Motorcycles</td>\n",
       "      <td>95</td>\n",
       "      <td>S10_1678</td>\n",
       "      <td>Australian Collectors, Co.</td>\n",
       "      <td>Melbourne</td>\n",
       "      <td>3004</td>\n",
       "      <td>Australia</td>\n",
       "      <td>Medium</td>\n",
       "    </tr>\n",
       "    <tr>\n",
       "      <th>1</th>\n",
       "      <td>10309</td>\n",
       "      <td>41</td>\n",
       "      <td>100.0</td>\n",
       "      <td>5</td>\n",
       "      <td>4394.38</td>\n",
       "      <td>10/15/2004 0:00</td>\n",
       "      <td>Shipped</td>\n",
       "      <td>Motorcycles</td>\n",
       "      <td>95</td>\n",
       "      <td>S10_1678</td>\n",
       "      <td>Baane Mini Imports</td>\n",
       "      <td>Stavern</td>\n",
       "      <td>4110</td>\n",
       "      <td>Norway</td>\n",
       "      <td>Medium</td>\n",
       "    </tr>\n",
       "  </tbody>\n",
       "</table>\n",
       "</div>"
      ],
      "text/plain": [
       "   ORDERNUMBER  QUANTITYORDERED  PRICEEACH  ORDERLINENUMBER    SALES  \\\n",
       "0        10223               37      100.0                1  3965.66   \n",
       "1        10309               41      100.0                5  4394.38   \n",
       "\n",
       "         ORDERDATE   STATUS  PRODUCTLINE  MSRP PRODUCTCODE  \\\n",
       "0   2/20/2004 0:00  Shipped  Motorcycles    95    S10_1678   \n",
       "1  10/15/2004 0:00  Shipped  Motorcycles    95    S10_1678   \n",
       "\n",
       "                 CUSTOMERNAME       CITY POSTALCODE    COUNTRY DEALSIZE  \n",
       "0  Australian Collectors, Co.  Melbourne       3004  Australia   Medium  \n",
       "1          Baane Mini Imports    Stavern       4110     Norway   Medium  "
      ]
     },
     "execution_count": 3,
     "metadata": {},
     "output_type": "execute_result"
    }
   ],
   "source": [
    "df.head(2)"
   ]
  },
  {
   "cell_type": "code",
   "execution_count": 4,
   "id": "c55be1c4-27fa-4489-ac84-294477d97070",
   "metadata": {},
   "outputs": [
    {
     "data": {
      "text/html": [
       "<div>\n",
       "<style scoped>\n",
       "    .dataframe tbody tr th:only-of-type {\n",
       "        vertical-align: middle;\n",
       "    }\n",
       "\n",
       "    .dataframe tbody tr th {\n",
       "        vertical-align: top;\n",
       "    }\n",
       "\n",
       "    .dataframe thead th {\n",
       "        text-align: right;\n",
       "    }\n",
       "</style>\n",
       "<table border=\"1\" class=\"dataframe\">\n",
       "  <thead>\n",
       "    <tr style=\"text-align: right;\">\n",
       "      <th></th>\n",
       "      <th>SALES_REP_ID</th>\n",
       "      <th>Name</th>\n",
       "      <th>First Name</th>\n",
       "      <th>Last Name</th>\n",
       "      <th>Gender</th>\n",
       "      <th>Photo Img</th>\n",
       "    </tr>\n",
       "  </thead>\n",
       "  <tbody>\n",
       "    <tr>\n",
       "      <th>0</th>\n",
       "      <td>1</td>\n",
       "      <td>Harmani Calderoni</td>\n",
       "      <td>Harmani</td>\n",
       "      <td>Calderoni</td>\n",
       "      <td>M</td>\n",
       "      <td>https://images.pexels.com/photos/91227/pexels-...</td>\n",
       "    </tr>\n",
       "    <tr>\n",
       "      <th>1</th>\n",
       "      <td>2</td>\n",
       "      <td>Singleton Ashton</td>\n",
       "      <td>Singleton</td>\n",
       "      <td>Ashton</td>\n",
       "      <td>M</td>\n",
       "      <td>https://images.pexels.com/photos/718261/pexels...</td>\n",
       "    </tr>\n",
       "  </tbody>\n",
       "</table>\n",
       "</div>"
      ],
      "text/plain": [
       "   SALES_REP_ID               Name First Name  Last Name Gender  \\\n",
       "0             1  Harmani Calderoni    Harmani  Calderoni      M   \n",
       "1             2   Singleton Ashton  Singleton     Ashton      M   \n",
       "\n",
       "                                           Photo Img  \n",
       "0  https://images.pexels.com/photos/91227/pexels-...  \n",
       "1  https://images.pexels.com/photos/718261/pexels...  "
      ]
     },
     "execution_count": 4,
     "metadata": {},
     "output_type": "execute_result"
    }
   ],
   "source": [
    "df2.head(2)"
   ]
  },
  {
   "cell_type": "code",
   "execution_count": 5,
   "id": "628f4d27-706b-4a5a-81de-6e2a402ae4c2",
   "metadata": {},
   "outputs": [],
   "source": [
    "df=df.iloc[:,0:].merge(df2.iloc[:,:2],left_on='ORDERLINENUMBER',right_on='SALES_REP_ID')"
   ]
  },
  {
   "cell_type": "code",
   "execution_count": 6,
   "id": "e4d00f3f-6bf1-42e5-af92-e9fbf69ae751",
   "metadata": {},
   "outputs": [
    {
     "data": {
      "text/html": [
       "<div>\n",
       "<style scoped>\n",
       "    .dataframe tbody tr th:only-of-type {\n",
       "        vertical-align: middle;\n",
       "    }\n",
       "\n",
       "    .dataframe tbody tr th {\n",
       "        vertical-align: top;\n",
       "    }\n",
       "\n",
       "    .dataframe thead th {\n",
       "        text-align: right;\n",
       "    }\n",
       "</style>\n",
       "<table border=\"1\" class=\"dataframe\">\n",
       "  <thead>\n",
       "    <tr style=\"text-align: right;\">\n",
       "      <th></th>\n",
       "      <th>ORDERNUMBER</th>\n",
       "      <th>QUANTITYORDERED</th>\n",
       "      <th>PRICEEACH</th>\n",
       "      <th>ORDERLINENUMBER</th>\n",
       "      <th>SALES</th>\n",
       "      <th>ORDERDATE</th>\n",
       "      <th>STATUS</th>\n",
       "      <th>PRODUCTLINE</th>\n",
       "      <th>MSRP</th>\n",
       "      <th>PRODUCTCODE</th>\n",
       "      <th>CUSTOMERNAME</th>\n",
       "      <th>CITY</th>\n",
       "      <th>POSTALCODE</th>\n",
       "      <th>COUNTRY</th>\n",
       "      <th>DEALSIZE</th>\n",
       "      <th>SALES_REP_ID</th>\n",
       "      <th>Name</th>\n",
       "    </tr>\n",
       "  </thead>\n",
       "  <tbody>\n",
       "    <tr>\n",
       "      <th>0</th>\n",
       "      <td>10223</td>\n",
       "      <td>37</td>\n",
       "      <td>100.00</td>\n",
       "      <td>1</td>\n",
       "      <td>3965.66</td>\n",
       "      <td>2/20/2004 0:00</td>\n",
       "      <td>Shipped</td>\n",
       "      <td>Motorcycles</td>\n",
       "      <td>95</td>\n",
       "      <td>S10_1678</td>\n",
       "      <td>Australian Collectors, Co.</td>\n",
       "      <td>Melbourne</td>\n",
       "      <td>3004</td>\n",
       "      <td>Australia</td>\n",
       "      <td>Medium</td>\n",
       "      <td>1</td>\n",
       "      <td>Harmani Calderoni</td>\n",
       "    </tr>\n",
       "    <tr>\n",
       "      <th>1</th>\n",
       "      <td>10318</td>\n",
       "      <td>46</td>\n",
       "      <td>94.74</td>\n",
       "      <td>1</td>\n",
       "      <td>4358.04</td>\n",
       "      <td>2004-02-11 00:00:00</td>\n",
       "      <td>Shipped</td>\n",
       "      <td>Motorcycles</td>\n",
       "      <td>95</td>\n",
       "      <td>S10_1678</td>\n",
       "      <td>Diecast Classics Inc.</td>\n",
       "      <td>Allentown</td>\n",
       "      <td>70267</td>\n",
       "      <td>USA</td>\n",
       "      <td>Medium</td>\n",
       "      <td>1</td>\n",
       "      <td>Harmani Calderoni</td>\n",
       "    </tr>\n",
       "    <tr>\n",
       "      <th>2</th>\n",
       "      <td>10210</td>\n",
       "      <td>34</td>\n",
       "      <td>100.00</td>\n",
       "      <td>1</td>\n",
       "      <td>6123.40</td>\n",
       "      <td>2004-12-01 00:00:00</td>\n",
       "      <td>Shipped</td>\n",
       "      <td>Motorcycles</td>\n",
       "      <td>193</td>\n",
       "      <td>S10_4698</td>\n",
       "      <td>Osaka Souveniers Co.</td>\n",
       "      <td>Osaka</td>\n",
       "      <td>530-0003</td>\n",
       "      <td>Japan</td>\n",
       "      <td>Medium</td>\n",
       "      <td>1</td>\n",
       "      <td>Harmani Calderoni</td>\n",
       "    </tr>\n",
       "    <tr>\n",
       "      <th>3</th>\n",
       "      <td>10377</td>\n",
       "      <td>50</td>\n",
       "      <td>100.00</td>\n",
       "      <td>1</td>\n",
       "      <td>5182.00</td>\n",
       "      <td>2005-09-02 00:00:00</td>\n",
       "      <td>Shipped</td>\n",
       "      <td>Classic Cars</td>\n",
       "      <td>115</td>\n",
       "      <td>S12_4675</td>\n",
       "      <td>Toys of Finland, Co.</td>\n",
       "      <td>Helsinki</td>\n",
       "      <td>21240</td>\n",
       "      <td>Finland</td>\n",
       "      <td>Medium</td>\n",
       "      <td>1</td>\n",
       "      <td>Harmani Calderoni</td>\n",
       "    </tr>\n",
       "    <tr>\n",
       "      <th>4</th>\n",
       "      <td>10419</td>\n",
       "      <td>37</td>\n",
       "      <td>100.00</td>\n",
       "      <td>1</td>\n",
       "      <td>5202.94</td>\n",
       "      <td>5/17/2005 0:00</td>\n",
       "      <td>Shipped</td>\n",
       "      <td>Classic Cars</td>\n",
       "      <td>124</td>\n",
       "      <td>S18_1589</td>\n",
       "      <td>Salzburg Collectables</td>\n",
       "      <td>Salzburg</td>\n",
       "      <td>5020</td>\n",
       "      <td>Austria</td>\n",
       "      <td>Medium</td>\n",
       "      <td>1</td>\n",
       "      <td>Harmani Calderoni</td>\n",
       "    </tr>\n",
       "    <tr>\n",
       "      <th>5</th>\n",
       "      <td>10405</td>\n",
       "      <td>55</td>\n",
       "      <td>100.00</td>\n",
       "      <td>1</td>\n",
       "      <td>8289.05</td>\n",
       "      <td>4/14/2005 0:00</td>\n",
       "      <td>Shipped</td>\n",
       "      <td>Classic Cars</td>\n",
       "      <td>169</td>\n",
       "      <td>S18_3232</td>\n",
       "      <td>Mini Caravy</td>\n",
       "      <td>Strasbourg</td>\n",
       "      <td>67000</td>\n",
       "      <td>France</td>\n",
       "      <td>Large</td>\n",
       "      <td>1</td>\n",
       "      <td>Harmani Calderoni</td>\n",
       "    </tr>\n",
       "    <tr>\n",
       "      <th>6</th>\n",
       "      <td>10392</td>\n",
       "      <td>36</td>\n",
       "      <td>100.00</td>\n",
       "      <td>1</td>\n",
       "      <td>4035.96</td>\n",
       "      <td>2005-10-03 00:00:00</td>\n",
       "      <td>Shipped</td>\n",
       "      <td>Vintage Cars</td>\n",
       "      <td>99</td>\n",
       "      <td>S18_3320</td>\n",
       "      <td>Mini Auto Werke</td>\n",
       "      <td>Graz</td>\n",
       "      <td>8010</td>\n",
       "      <td>Austria</td>\n",
       "      <td>Medium</td>\n",
       "      <td>1</td>\n",
       "      <td>Harmani Calderoni</td>\n",
       "    </tr>\n",
       "    <tr>\n",
       "      <th>7</th>\n",
       "      <td>10240</td>\n",
       "      <td>37</td>\n",
       "      <td>100.00</td>\n",
       "      <td>1</td>\n",
       "      <td>5959.22</td>\n",
       "      <td>4/13/2004 0:00</td>\n",
       "      <td>Shipped</td>\n",
       "      <td>Classic Cars</td>\n",
       "      <td>141</td>\n",
       "      <td>S18_3685</td>\n",
       "      <td>Osaka Souveniers Co.</td>\n",
       "      <td>Osaka</td>\n",
       "      <td>530-0003</td>\n",
       "      <td>Japan</td>\n",
       "      <td>Medium</td>\n",
       "      <td>1</td>\n",
       "      <td>Harmani Calderoni</td>\n",
       "    </tr>\n",
       "    <tr>\n",
       "      <th>8</th>\n",
       "      <td>10105</td>\n",
       "      <td>50</td>\n",
       "      <td>79.67</td>\n",
       "      <td>1</td>\n",
       "      <td>3983.50</td>\n",
       "      <td>2003-11-02 00:00:00</td>\n",
       "      <td>Shipped</td>\n",
       "      <td>Vintage Cars</td>\n",
       "      <td>83</td>\n",
       "      <td>S24_3816</td>\n",
       "      <td>Danish Wholesale Imports</td>\n",
       "      <td>Kobenhavn</td>\n",
       "      <td>1734</td>\n",
       "      <td>Denmark</td>\n",
       "      <td>Medium</td>\n",
       "      <td>1</td>\n",
       "      <td>Harmani Calderoni</td>\n",
       "    </tr>\n",
       "    <tr>\n",
       "      <th>9</th>\n",
       "      <td>10317</td>\n",
       "      <td>35</td>\n",
       "      <td>83.32</td>\n",
       "      <td>1</td>\n",
       "      <td>2916.20</td>\n",
       "      <td>2004-02-11 00:00:00</td>\n",
       "      <td>Shipped</td>\n",
       "      <td>Planes</td>\n",
       "      <td>72</td>\n",
       "      <td>S24_4278</td>\n",
       "      <td>Technics Stores Inc.</td>\n",
       "      <td>Burlingame</td>\n",
       "      <td>94217</td>\n",
       "      <td>USA</td>\n",
       "      <td>Small</td>\n",
       "      <td>1</td>\n",
       "      <td>Harmani Calderoni</td>\n",
       "    </tr>\n",
       "  </tbody>\n",
       "</table>\n",
       "</div>"
      ],
      "text/plain": [
       "   ORDERNUMBER  QUANTITYORDERED  PRICEEACH  ORDERLINENUMBER    SALES  \\\n",
       "0        10223               37     100.00                1  3965.66   \n",
       "1        10318               46      94.74                1  4358.04   \n",
       "2        10210               34     100.00                1  6123.40   \n",
       "3        10377               50     100.00                1  5182.00   \n",
       "4        10419               37     100.00                1  5202.94   \n",
       "5        10405               55     100.00                1  8289.05   \n",
       "6        10392               36     100.00                1  4035.96   \n",
       "7        10240               37     100.00                1  5959.22   \n",
       "8        10105               50      79.67                1  3983.50   \n",
       "9        10317               35      83.32                1  2916.20   \n",
       "\n",
       "             ORDERDATE   STATUS   PRODUCTLINE  MSRP PRODUCTCODE  \\\n",
       "0       2/20/2004 0:00  Shipped   Motorcycles    95    S10_1678   \n",
       "1  2004-02-11 00:00:00  Shipped   Motorcycles    95    S10_1678   \n",
       "2  2004-12-01 00:00:00  Shipped   Motorcycles   193    S10_4698   \n",
       "3  2005-09-02 00:00:00  Shipped  Classic Cars   115    S12_4675   \n",
       "4       5/17/2005 0:00  Shipped  Classic Cars   124    S18_1589   \n",
       "5       4/14/2005 0:00  Shipped  Classic Cars   169    S18_3232   \n",
       "6  2005-10-03 00:00:00  Shipped  Vintage Cars    99    S18_3320   \n",
       "7       4/13/2004 0:00  Shipped  Classic Cars   141    S18_3685   \n",
       "8  2003-11-02 00:00:00  Shipped  Vintage Cars    83    S24_3816   \n",
       "9  2004-02-11 00:00:00  Shipped        Planes    72    S24_4278   \n",
       "\n",
       "                 CUSTOMERNAME        CITY POSTALCODE    COUNTRY DEALSIZE  \\\n",
       "0  Australian Collectors, Co.   Melbourne       3004  Australia   Medium   \n",
       "1       Diecast Classics Inc.   Allentown      70267        USA   Medium   \n",
       "2        Osaka Souveniers Co.       Osaka   530-0003      Japan   Medium   \n",
       "3        Toys of Finland, Co.    Helsinki      21240    Finland   Medium   \n",
       "4       Salzburg Collectables    Salzburg       5020    Austria   Medium   \n",
       "5                 Mini Caravy  Strasbourg      67000     France    Large   \n",
       "6             Mini Auto Werke        Graz       8010    Austria   Medium   \n",
       "7        Osaka Souveniers Co.       Osaka   530-0003      Japan   Medium   \n",
       "8    Danish Wholesale Imports   Kobenhavn       1734    Denmark   Medium   \n",
       "9        Technics Stores Inc.  Burlingame      94217        USA    Small   \n",
       "\n",
       "   SALES_REP_ID               Name  \n",
       "0             1  Harmani Calderoni  \n",
       "1             1  Harmani Calderoni  \n",
       "2             1  Harmani Calderoni  \n",
       "3             1  Harmani Calderoni  \n",
       "4             1  Harmani Calderoni  \n",
       "5             1  Harmani Calderoni  \n",
       "6             1  Harmani Calderoni  \n",
       "7             1  Harmani Calderoni  \n",
       "8             1  Harmani Calderoni  \n",
       "9             1  Harmani Calderoni  "
      ]
     },
     "execution_count": 6,
     "metadata": {},
     "output_type": "execute_result"
    }
   ],
   "source": [
    "df.head(10)"
   ]
  },
  {
   "cell_type": "code",
   "execution_count": 7,
   "id": "66c0dafa-c130-4600-9efa-28b671ae996e",
   "metadata": {},
   "outputs": [
    {
     "name": "stdout",
     "output_type": "stream",
     "text": [
      "(2823, 17)\n",
      "<class 'pandas.core.frame.DataFrame'>\n",
      "Int64Index: 2823 entries, 0 to 2822\n",
      "Data columns (total 17 columns):\n",
      " #   Column           Non-Null Count  Dtype  \n",
      "---  ------           --------------  -----  \n",
      " 0   ORDERNUMBER      2823 non-null   int64  \n",
      " 1   QUANTITYORDERED  2823 non-null   int64  \n",
      " 2   PRICEEACH        2823 non-null   float64\n",
      " 3   ORDERLINENUMBER  2823 non-null   int64  \n",
      " 4   SALES            2823 non-null   float64\n",
      " 5   ORDERDATE        2823 non-null   object \n",
      " 6   STATUS           2823 non-null   object \n",
      " 7   PRODUCTLINE      2823 non-null   object \n",
      " 8   MSRP             2823 non-null   int64  \n",
      " 9   PRODUCTCODE      2823 non-null   object \n",
      " 10  CUSTOMERNAME     2823 non-null   object \n",
      " 11  CITY             2823 non-null   object \n",
      " 12  POSTALCODE       2747 non-null   object \n",
      " 13  COUNTRY          2823 non-null   object \n",
      " 14  DEALSIZE         2823 non-null   object \n",
      " 15  SALES_REP_ID     2823 non-null   int64  \n",
      " 16  Name             2823 non-null   object \n",
      "dtypes: float64(2), int64(5), object(10)\n",
      "memory usage: 397.0+ KB\n"
     ]
    }
   ],
   "source": [
    "print(df.shape)\n",
    "df.info()"
   ]
  },
  {
   "cell_type": "markdown",
   "id": "1952cd4f-9bd9-41dd-adf8-aaac66585070",
   "metadata": {
    "tags": []
   },
   "source": [
    "### The Data Structure\n",
    "The data comprise 2823 rows and 17 columns (features). 6 of these 17 columns (35.3%) are numeric variables\n",
    "\n",
    "The DEALSIZE is the only ordered factor variable (Small->Medium->Large)\n",
    "\n",
    "The rest of the variables are non-numeric and they are self-explanatory from their column's name"
   ]
  },
  {
   "cell_type": "markdown",
   "id": "0bb9cbc5-ede8-4087-af49-ed8bc5baf868",
   "metadata": {},
   "source": [
    "## Data Accessment\n",
    "***"
   ]
  },
  {
   "cell_type": "markdown",
   "id": "5ccbfcb1-9841-4a19-bdc9-fef937495b8b",
   "metadata": {},
   "source": [
    "## Data Cleaning\n",
    "***"
   ]
  },
  {
   "cell_type": "code",
   "execution_count": 8,
   "id": "2d3962be-8002-4010-92ee-b2c15827d013",
   "metadata": {},
   "outputs": [],
   "source": [
    "x=[x.lower() for x in df.columns ]"
   ]
  },
  {
   "cell_type": "code",
   "execution_count": 9,
   "id": "8853b910-86a2-41fd-97c7-f151005462d9",
   "metadata": {},
   "outputs": [],
   "source": [
    "# paste and edit output x\n",
    "x=['order_number',\n",
    " 'quantity_ordered',\n",
    " 'price_each',\n",
    " 'order_line_number',\n",
    " 'sales',\n",
    " 'order_date',\n",
    " 'status',\n",
    " 'product_line',\n",
    " 'msrp',\n",
    " 'product_code',\n",
    " 'customer_name',\n",
    " 'city',\n",
    " 'postal_code',\n",
    " 'country',\n",
    " 'deal_size',\n",
    " 'sales_rep_id',\n",
    " 'name']\n",
    "# replace data frame's columns with x\n",
    "df.columns=x"
   ]
  },
  {
   "cell_type": "code",
   "execution_count": 123,
   "id": "51cb93fc-7adc-4e6a-beea-ef56c41f5a96",
   "metadata": {},
   "outputs": [
    {
     "ename": "KeyError",
     "evalue": "\"['sales_rep_id'] not found in axis\"",
     "output_type": "error",
     "traceback": [
      "\u001b[1;31m---------------------------------------------------------------------------\u001b[0m",
      "\u001b[1;31mKeyError\u001b[0m                                  Traceback (most recent call last)",
      "Input \u001b[1;32mIn [123]\u001b[0m, in \u001b[0;36m<cell line: 3>\u001b[1;34m()\u001b[0m\n\u001b[0;32m      1\u001b[0m df\u001b[38;5;241m.\u001b[39morder_number\u001b[38;5;241m=\u001b[39mdf\u001b[38;5;241m.\u001b[39morder_number\u001b[38;5;241m.\u001b[39mastype(\u001b[38;5;28mstr\u001b[39m)\n\u001b[0;32m      2\u001b[0m df\u001b[38;5;241m.\u001b[39morder_line_number\u001b[38;5;241m=\u001b[39mdf\u001b[38;5;241m.\u001b[39morder_line_number\u001b[38;5;241m.\u001b[39mastype(\u001b[38;5;28mstr\u001b[39m)\n\u001b[1;32m----> 3\u001b[0m \u001b[43mdf\u001b[49m\u001b[38;5;241;43m.\u001b[39;49m\u001b[43mdrop\u001b[49m\u001b[43m(\u001b[49m\u001b[43m[\u001b[49m\u001b[38;5;124;43m'\u001b[39;49m\u001b[38;5;124;43msales_rep_id\u001b[39;49m\u001b[38;5;124;43m'\u001b[39;49m\u001b[43m,\u001b[49m\u001b[38;5;124;43m'\u001b[39;49m\u001b[38;5;124;43mmsrp\u001b[39;49m\u001b[38;5;124;43m'\u001b[39;49m\u001b[43m]\u001b[49m\u001b[43m,\u001b[49m\u001b[43maxis\u001b[49m\u001b[38;5;241;43m=\u001b[39;49m\u001b[38;5;241;43m1\u001b[39;49m\u001b[43m,\u001b[49m\u001b[43minplace\u001b[49m\u001b[38;5;241;43m=\u001b[39;49m\u001b[38;5;28;43;01mTrue\u001b[39;49;00m\u001b[43m)\u001b[49m\n",
      "File \u001b[1;32m~\\anaconda3\\lib\\site-packages\\pandas\\util\\_decorators.py:311\u001b[0m, in \u001b[0;36mdeprecate_nonkeyword_arguments.<locals>.decorate.<locals>.wrapper\u001b[1;34m(*args, **kwargs)\u001b[0m\n\u001b[0;32m    305\u001b[0m \u001b[38;5;28;01mif\u001b[39;00m \u001b[38;5;28mlen\u001b[39m(args) \u001b[38;5;241m>\u001b[39m num_allow_args:\n\u001b[0;32m    306\u001b[0m     warnings\u001b[38;5;241m.\u001b[39mwarn(\n\u001b[0;32m    307\u001b[0m         msg\u001b[38;5;241m.\u001b[39mformat(arguments\u001b[38;5;241m=\u001b[39marguments),\n\u001b[0;32m    308\u001b[0m         \u001b[38;5;167;01mFutureWarning\u001b[39;00m,\n\u001b[0;32m    309\u001b[0m         stacklevel\u001b[38;5;241m=\u001b[39mstacklevel,\n\u001b[0;32m    310\u001b[0m     )\n\u001b[1;32m--> 311\u001b[0m \u001b[38;5;28;01mreturn\u001b[39;00m func(\u001b[38;5;241m*\u001b[39margs, \u001b[38;5;241m*\u001b[39m\u001b[38;5;241m*\u001b[39mkwargs)\n",
      "File \u001b[1;32m~\\anaconda3\\lib\\site-packages\\pandas\\core\\frame.py:4954\u001b[0m, in \u001b[0;36mDataFrame.drop\u001b[1;34m(self, labels, axis, index, columns, level, inplace, errors)\u001b[0m\n\u001b[0;32m   4806\u001b[0m \u001b[38;5;129m@deprecate_nonkeyword_arguments\u001b[39m(version\u001b[38;5;241m=\u001b[39m\u001b[38;5;28;01mNone\u001b[39;00m, allowed_args\u001b[38;5;241m=\u001b[39m[\u001b[38;5;124m\"\u001b[39m\u001b[38;5;124mself\u001b[39m\u001b[38;5;124m\"\u001b[39m, \u001b[38;5;124m\"\u001b[39m\u001b[38;5;124mlabels\u001b[39m\u001b[38;5;124m\"\u001b[39m])\n\u001b[0;32m   4807\u001b[0m \u001b[38;5;28;01mdef\u001b[39;00m \u001b[38;5;21mdrop\u001b[39m(\n\u001b[0;32m   4808\u001b[0m     \u001b[38;5;28mself\u001b[39m,\n\u001b[1;32m   (...)\u001b[0m\n\u001b[0;32m   4815\u001b[0m     errors: \u001b[38;5;28mstr\u001b[39m \u001b[38;5;241m=\u001b[39m \u001b[38;5;124m\"\u001b[39m\u001b[38;5;124mraise\u001b[39m\u001b[38;5;124m\"\u001b[39m,\n\u001b[0;32m   4816\u001b[0m ):\n\u001b[0;32m   4817\u001b[0m     \u001b[38;5;124;03m\"\"\"\u001b[39;00m\n\u001b[0;32m   4818\u001b[0m \u001b[38;5;124;03m    Drop specified labels from rows or columns.\u001b[39;00m\n\u001b[0;32m   4819\u001b[0m \n\u001b[1;32m   (...)\u001b[0m\n\u001b[0;32m   4952\u001b[0m \u001b[38;5;124;03m            weight  1.0     0.8\u001b[39;00m\n\u001b[0;32m   4953\u001b[0m \u001b[38;5;124;03m    \"\"\"\u001b[39;00m\n\u001b[1;32m-> 4954\u001b[0m     \u001b[38;5;28;01mreturn\u001b[39;00m \u001b[38;5;28;43msuper\u001b[39;49m\u001b[43m(\u001b[49m\u001b[43m)\u001b[49m\u001b[38;5;241;43m.\u001b[39;49m\u001b[43mdrop\u001b[49m\u001b[43m(\u001b[49m\n\u001b[0;32m   4955\u001b[0m \u001b[43m        \u001b[49m\u001b[43mlabels\u001b[49m\u001b[38;5;241;43m=\u001b[39;49m\u001b[43mlabels\u001b[49m\u001b[43m,\u001b[49m\n\u001b[0;32m   4956\u001b[0m \u001b[43m        \u001b[49m\u001b[43maxis\u001b[49m\u001b[38;5;241;43m=\u001b[39;49m\u001b[43maxis\u001b[49m\u001b[43m,\u001b[49m\n\u001b[0;32m   4957\u001b[0m \u001b[43m        \u001b[49m\u001b[43mindex\u001b[49m\u001b[38;5;241;43m=\u001b[39;49m\u001b[43mindex\u001b[49m\u001b[43m,\u001b[49m\n\u001b[0;32m   4958\u001b[0m \u001b[43m        \u001b[49m\u001b[43mcolumns\u001b[49m\u001b[38;5;241;43m=\u001b[39;49m\u001b[43mcolumns\u001b[49m\u001b[43m,\u001b[49m\n\u001b[0;32m   4959\u001b[0m \u001b[43m        \u001b[49m\u001b[43mlevel\u001b[49m\u001b[38;5;241;43m=\u001b[39;49m\u001b[43mlevel\u001b[49m\u001b[43m,\u001b[49m\n\u001b[0;32m   4960\u001b[0m \u001b[43m        \u001b[49m\u001b[43minplace\u001b[49m\u001b[38;5;241;43m=\u001b[39;49m\u001b[43minplace\u001b[49m\u001b[43m,\u001b[49m\n\u001b[0;32m   4961\u001b[0m \u001b[43m        \u001b[49m\u001b[43merrors\u001b[49m\u001b[38;5;241;43m=\u001b[39;49m\u001b[43merrors\u001b[49m\u001b[43m,\u001b[49m\n\u001b[0;32m   4962\u001b[0m \u001b[43m    \u001b[49m\u001b[43m)\u001b[49m\n",
      "File \u001b[1;32m~\\anaconda3\\lib\\site-packages\\pandas\\core\\generic.py:4267\u001b[0m, in \u001b[0;36mNDFrame.drop\u001b[1;34m(self, labels, axis, index, columns, level, inplace, errors)\u001b[0m\n\u001b[0;32m   4265\u001b[0m \u001b[38;5;28;01mfor\u001b[39;00m axis, labels \u001b[38;5;129;01min\u001b[39;00m axes\u001b[38;5;241m.\u001b[39mitems():\n\u001b[0;32m   4266\u001b[0m     \u001b[38;5;28;01mif\u001b[39;00m labels \u001b[38;5;129;01mis\u001b[39;00m \u001b[38;5;129;01mnot\u001b[39;00m \u001b[38;5;28;01mNone\u001b[39;00m:\n\u001b[1;32m-> 4267\u001b[0m         obj \u001b[38;5;241m=\u001b[39m \u001b[43mobj\u001b[49m\u001b[38;5;241;43m.\u001b[39;49m\u001b[43m_drop_axis\u001b[49m\u001b[43m(\u001b[49m\u001b[43mlabels\u001b[49m\u001b[43m,\u001b[49m\u001b[43m \u001b[49m\u001b[43maxis\u001b[49m\u001b[43m,\u001b[49m\u001b[43m \u001b[49m\u001b[43mlevel\u001b[49m\u001b[38;5;241;43m=\u001b[39;49m\u001b[43mlevel\u001b[49m\u001b[43m,\u001b[49m\u001b[43m \u001b[49m\u001b[43merrors\u001b[49m\u001b[38;5;241;43m=\u001b[39;49m\u001b[43merrors\u001b[49m\u001b[43m)\u001b[49m\n\u001b[0;32m   4269\u001b[0m \u001b[38;5;28;01mif\u001b[39;00m inplace:\n\u001b[0;32m   4270\u001b[0m     \u001b[38;5;28mself\u001b[39m\u001b[38;5;241m.\u001b[39m_update_inplace(obj)\n",
      "File \u001b[1;32m~\\anaconda3\\lib\\site-packages\\pandas\\core\\generic.py:4311\u001b[0m, in \u001b[0;36mNDFrame._drop_axis\u001b[1;34m(self, labels, axis, level, errors, consolidate, only_slice)\u001b[0m\n\u001b[0;32m   4309\u001b[0m         new_axis \u001b[38;5;241m=\u001b[39m axis\u001b[38;5;241m.\u001b[39mdrop(labels, level\u001b[38;5;241m=\u001b[39mlevel, errors\u001b[38;5;241m=\u001b[39merrors)\n\u001b[0;32m   4310\u001b[0m     \u001b[38;5;28;01melse\u001b[39;00m:\n\u001b[1;32m-> 4311\u001b[0m         new_axis \u001b[38;5;241m=\u001b[39m \u001b[43maxis\u001b[49m\u001b[38;5;241;43m.\u001b[39;49m\u001b[43mdrop\u001b[49m\u001b[43m(\u001b[49m\u001b[43mlabels\u001b[49m\u001b[43m,\u001b[49m\u001b[43m \u001b[49m\u001b[43merrors\u001b[49m\u001b[38;5;241;43m=\u001b[39;49m\u001b[43merrors\u001b[49m\u001b[43m)\u001b[49m\n\u001b[0;32m   4312\u001b[0m     indexer \u001b[38;5;241m=\u001b[39m axis\u001b[38;5;241m.\u001b[39mget_indexer(new_axis)\n\u001b[0;32m   4314\u001b[0m \u001b[38;5;66;03m# Case for non-unique axis\u001b[39;00m\n\u001b[0;32m   4315\u001b[0m \u001b[38;5;28;01melse\u001b[39;00m:\n",
      "File \u001b[1;32m~\\anaconda3\\lib\\site-packages\\pandas\\core\\indexes\\base.py:6644\u001b[0m, in \u001b[0;36mIndex.drop\u001b[1;34m(self, labels, errors)\u001b[0m\n\u001b[0;32m   6642\u001b[0m \u001b[38;5;28;01mif\u001b[39;00m mask\u001b[38;5;241m.\u001b[39many():\n\u001b[0;32m   6643\u001b[0m     \u001b[38;5;28;01mif\u001b[39;00m errors \u001b[38;5;241m!=\u001b[39m \u001b[38;5;124m\"\u001b[39m\u001b[38;5;124mignore\u001b[39m\u001b[38;5;124m\"\u001b[39m:\n\u001b[1;32m-> 6644\u001b[0m         \u001b[38;5;28;01mraise\u001b[39;00m \u001b[38;5;167;01mKeyError\u001b[39;00m(\u001b[38;5;124mf\u001b[39m\u001b[38;5;124m\"\u001b[39m\u001b[38;5;132;01m{\u001b[39;00m\u001b[38;5;28mlist\u001b[39m(labels[mask])\u001b[38;5;132;01m}\u001b[39;00m\u001b[38;5;124m not found in axis\u001b[39m\u001b[38;5;124m\"\u001b[39m)\n\u001b[0;32m   6645\u001b[0m     indexer \u001b[38;5;241m=\u001b[39m indexer[\u001b[38;5;241m~\u001b[39mmask]\n\u001b[0;32m   6646\u001b[0m \u001b[38;5;28;01mreturn\u001b[39;00m \u001b[38;5;28mself\u001b[39m\u001b[38;5;241m.\u001b[39mdelete(indexer)\n",
      "\u001b[1;31mKeyError\u001b[0m: \"['sales_rep_id'] not found in axis\""
     ]
    }
   ],
   "source": [
    "df.order_number=df.order_number.astype(str)\n",
    "df.order_line_number=df.order_line_number.astype(str)\n",
    "df.drop(['sales_rep_id','msrp'],axis=1,inplace=True)"
   ]
  },
  {
   "cell_type": "code",
   "execution_count": 124,
   "id": "5494afcb-04ba-4eb0-b5a7-1a70721aba16",
   "metadata": {},
   "outputs": [],
   "source": [
    "df['order_date']=pd.to_datetime(df['order_date'])"
   ]
  },
  {
   "cell_type": "code",
   "execution_count": 11,
   "id": "ff5a7f7f-c28c-4ee0-9550-2d56844cf296",
   "metadata": {},
   "outputs": [
    {
     "name": "stdout",
     "output_type": "stream",
     "text": [
      "<class 'pandas.core.frame.DataFrame'>\n",
      "Int64Index: 2823 entries, 0 to 2822\n",
      "Data columns (total 16 columns):\n",
      " #   Column             Non-Null Count  Dtype  \n",
      "---  ------             --------------  -----  \n",
      " 0   order_number       2823 non-null   object \n",
      " 1   quantity_ordered   2823 non-null   int64  \n",
      " 2   price_each         2823 non-null   float64\n",
      " 3   order_line_number  2823 non-null   object \n",
      " 4   sales              2823 non-null   float64\n",
      " 5   order_date         2823 non-null   object \n",
      " 6   status             2823 non-null   object \n",
      " 7   product_line       2823 non-null   object \n",
      " 8   msrp               2823 non-null   int64  \n",
      " 9   product_code       2823 non-null   object \n",
      " 10  customer_name      2823 non-null   object \n",
      " 11  city               2823 non-null   object \n",
      " 12  postal_code        2747 non-null   object \n",
      " 13  country            2823 non-null   object \n",
      " 14  deal_size          2823 non-null   object \n",
      " 15  name               2823 non-null   object \n",
      "dtypes: float64(2), int64(2), object(12)\n",
      "memory usage: 374.9+ KB\n"
     ]
    }
   ],
   "source": [
    "df.info()"
   ]
  },
  {
   "cell_type": "code",
   "execution_count": 12,
   "id": "325867c9-dd4d-4f03-866d-4d304a2d2c7d",
   "metadata": {},
   "outputs": [
    {
     "data": {
      "text/html": [
       "<div>\n",
       "<style scoped>\n",
       "    .dataframe tbody tr th:only-of-type {\n",
       "        vertical-align: middle;\n",
       "    }\n",
       "\n",
       "    .dataframe tbody tr th {\n",
       "        vertical-align: top;\n",
       "    }\n",
       "\n",
       "    .dataframe thead th {\n",
       "        text-align: right;\n",
       "    }\n",
       "</style>\n",
       "<table border=\"1\" class=\"dataframe\">\n",
       "  <thead>\n",
       "    <tr style=\"text-align: right;\">\n",
       "      <th></th>\n",
       "      <th>order_number</th>\n",
       "      <th>quantity_ordered</th>\n",
       "      <th>price_each</th>\n",
       "      <th>order_line_number</th>\n",
       "      <th>sales</th>\n",
       "      <th>order_date</th>\n",
       "      <th>status</th>\n",
       "      <th>product_line</th>\n",
       "      <th>msrp</th>\n",
       "      <th>product_code</th>\n",
       "      <th>customer_name</th>\n",
       "      <th>city</th>\n",
       "      <th>postal_code</th>\n",
       "      <th>country</th>\n",
       "      <th>deal_size</th>\n",
       "      <th>name</th>\n",
       "    </tr>\n",
       "  </thead>\n",
       "  <tbody>\n",
       "    <tr>\n",
       "      <th>0</th>\n",
       "      <td>10223</td>\n",
       "      <td>37</td>\n",
       "      <td>100.00</td>\n",
       "      <td>1</td>\n",
       "      <td>3965.66</td>\n",
       "      <td>2/20/2004 0:00</td>\n",
       "      <td>Shipped</td>\n",
       "      <td>Motorcycles</td>\n",
       "      <td>95</td>\n",
       "      <td>S10_1678</td>\n",
       "      <td>Australian Collectors, Co.</td>\n",
       "      <td>Melbourne</td>\n",
       "      <td>3004</td>\n",
       "      <td>Australia</td>\n",
       "      <td>Medium</td>\n",
       "      <td>Harmani Calderoni</td>\n",
       "    </tr>\n",
       "    <tr>\n",
       "      <th>1</th>\n",
       "      <td>10318</td>\n",
       "      <td>46</td>\n",
       "      <td>94.74</td>\n",
       "      <td>1</td>\n",
       "      <td>4358.04</td>\n",
       "      <td>2004-02-11 00:00:00</td>\n",
       "      <td>Shipped</td>\n",
       "      <td>Motorcycles</td>\n",
       "      <td>95</td>\n",
       "      <td>S10_1678</td>\n",
       "      <td>Diecast Classics Inc.</td>\n",
       "      <td>Allentown</td>\n",
       "      <td>70267</td>\n",
       "      <td>USA</td>\n",
       "      <td>Medium</td>\n",
       "      <td>Harmani Calderoni</td>\n",
       "    </tr>\n",
       "  </tbody>\n",
       "</table>\n",
       "</div>"
      ],
      "text/plain": [
       "  order_number  quantity_ordered  price_each order_line_number    sales  \\\n",
       "0        10223                37      100.00                 1  3965.66   \n",
       "1        10318                46       94.74                 1  4358.04   \n",
       "\n",
       "            order_date   status product_line  msrp product_code  \\\n",
       "0       2/20/2004 0:00  Shipped  Motorcycles    95     S10_1678   \n",
       "1  2004-02-11 00:00:00  Shipped  Motorcycles    95     S10_1678   \n",
       "\n",
       "                customer_name       city postal_code    country deal_size  \\\n",
       "0  Australian Collectors, Co.  Melbourne        3004  Australia    Medium   \n",
       "1       Diecast Classics Inc.  Allentown       70267        USA    Medium   \n",
       "\n",
       "                name  \n",
       "0  Harmani Calderoni  \n",
       "1  Harmani Calderoni  "
      ]
     },
     "execution_count": 12,
     "metadata": {},
     "output_type": "execute_result"
    }
   ],
   "source": [
    "df.head(2)"
   ]
  },
  {
   "cell_type": "code",
   "execution_count": 13,
   "id": "d388b33e-7921-4f3c-a7ef-ca957f8a2450",
   "metadata": {},
   "outputs": [],
   "source": [
    "cost_of_goods=df.quantity_ordered*df.price_each\n",
    "df.insert(3,column='cost_of_goods',value=cost_of_goods)\n"
   ]
  },
  {
   "cell_type": "code",
   "execution_count": 14,
   "id": "cc0ec626-c8f5-4944-bc70-be337baa39d8",
   "metadata": {},
   "outputs": [],
   "source": [
    "profit=df.sales-round(df.cost_of_goods,2)\n",
    "df.insert(6,column='profit',value=profit)"
   ]
  },
  {
   "cell_type": "code",
   "execution_count": 15,
   "id": "f9871e2f-d085-4f6d-928f-2cffd315ef5a",
   "metadata": {},
   "outputs": [
    {
     "name": "stdout",
     "output_type": "stream",
     "text": [
      "The data frame conatins 0 duplicate(s)\n"
     ]
    }
   ],
   "source": [
    "print('The data frame conatins {} duplicate(s)'.format (df.duplicated().sum()))"
   ]
  },
  {
   "cell_type": "markdown",
   "id": "cb4d440d-1fc3-4bfc-b4dd-9b53786fb2f3",
   "metadata": {},
   "source": [
    "## Exploratory Data Analysis\n",
    "***"
   ]
  },
  {
   "cell_type": "code",
   "execution_count": 16,
   "id": "f58e8033-c7fc-47bd-ba50-1b66761c4380",
   "metadata": {},
   "outputs": [
    {
     "data": {
      "text/html": [
       "<div>\n",
       "<style scoped>\n",
       "    .dataframe tbody tr th:only-of-type {\n",
       "        vertical-align: middle;\n",
       "    }\n",
       "\n",
       "    .dataframe tbody tr th {\n",
       "        vertical-align: top;\n",
       "    }\n",
       "\n",
       "    .dataframe thead th {\n",
       "        text-align: right;\n",
       "    }\n",
       "</style>\n",
       "<table border=\"1\" class=\"dataframe\">\n",
       "  <thead>\n",
       "    <tr style=\"text-align: right;\">\n",
       "      <th></th>\n",
       "      <th>quantity_ordered</th>\n",
       "      <th>price_each</th>\n",
       "      <th>cost_of_goods</th>\n",
       "      <th>sales</th>\n",
       "      <th>profit</th>\n",
       "      <th>msrp</th>\n",
       "    </tr>\n",
       "  </thead>\n",
       "  <tbody>\n",
       "    <tr>\n",
       "      <th>count</th>\n",
       "      <td>2823.000000</td>\n",
       "      <td>2823.000000</td>\n",
       "      <td>2823.000000</td>\n",
       "      <td>2823.000000</td>\n",
       "      <td>2823.000000</td>\n",
       "      <td>2823.000000</td>\n",
       "    </tr>\n",
       "    <tr>\n",
       "      <th>mean</th>\n",
       "      <td>35.092809</td>\n",
       "      <td>83.658544</td>\n",
       "      <td>2936.906408</td>\n",
       "      <td>3553.889072</td>\n",
       "      <td>616.982664</td>\n",
       "      <td>100.715551</td>\n",
       "    </tr>\n",
       "    <tr>\n",
       "      <th>std</th>\n",
       "      <td>9.741443</td>\n",
       "      <td>20.174277</td>\n",
       "      <td>1105.644284</td>\n",
       "      <td>1841.865106</td>\n",
       "      <td>1047.728887</td>\n",
       "      <td>40.187912</td>\n",
       "    </tr>\n",
       "    <tr>\n",
       "      <th>min</th>\n",
       "      <td>6.000000</td>\n",
       "      <td>26.880000</td>\n",
       "      <td>482.130000</td>\n",
       "      <td>482.130000</td>\n",
       "      <td>0.000000</td>\n",
       "      <td>33.000000</td>\n",
       "    </tr>\n",
       "    <tr>\n",
       "      <th>25%</th>\n",
       "      <td>27.000000</td>\n",
       "      <td>68.860000</td>\n",
       "      <td>2100.000000</td>\n",
       "      <td>2203.430000</td>\n",
       "      <td>0.000000</td>\n",
       "      <td>68.000000</td>\n",
       "    </tr>\n",
       "    <tr>\n",
       "      <th>50%</th>\n",
       "      <td>35.000000</td>\n",
       "      <td>95.700000</td>\n",
       "      <td>2800.000000</td>\n",
       "      <td>3184.800000</td>\n",
       "      <td>0.000000</td>\n",
       "      <td>99.000000</td>\n",
       "    </tr>\n",
       "    <tr>\n",
       "      <th>75%</th>\n",
       "      <td>43.000000</td>\n",
       "      <td>100.000000</td>\n",
       "      <td>3726.810000</td>\n",
       "      <td>4508.000000</td>\n",
       "      <td>925.180000</td>\n",
       "      <td>124.000000</td>\n",
       "    </tr>\n",
       "    <tr>\n",
       "      <th>max</th>\n",
       "      <td>97.000000</td>\n",
       "      <td>100.000000</td>\n",
       "      <td>9048.160000</td>\n",
       "      <td>14082.800000</td>\n",
       "      <td>7536.500000</td>\n",
       "      <td>214.000000</td>\n",
       "    </tr>\n",
       "  </tbody>\n",
       "</table>\n",
       "</div>"
      ],
      "text/plain": [
       "       quantity_ordered   price_each  cost_of_goods         sales  \\\n",
       "count       2823.000000  2823.000000    2823.000000   2823.000000   \n",
       "mean          35.092809    83.658544    2936.906408   3553.889072   \n",
       "std            9.741443    20.174277    1105.644284   1841.865106   \n",
       "min            6.000000    26.880000     482.130000    482.130000   \n",
       "25%           27.000000    68.860000    2100.000000   2203.430000   \n",
       "50%           35.000000    95.700000    2800.000000   3184.800000   \n",
       "75%           43.000000   100.000000    3726.810000   4508.000000   \n",
       "max           97.000000   100.000000    9048.160000  14082.800000   \n",
       "\n",
       "            profit         msrp  \n",
       "count  2823.000000  2823.000000  \n",
       "mean    616.982664   100.715551  \n",
       "std    1047.728887    40.187912  \n",
       "min       0.000000    33.000000  \n",
       "25%       0.000000    68.000000  \n",
       "50%       0.000000    99.000000  \n",
       "75%     925.180000   124.000000  \n",
       "max    7536.500000   214.000000  "
      ]
     },
     "execution_count": 16,
     "metadata": {},
     "output_type": "execute_result"
    }
   ],
   "source": [
    "df.describe()"
   ]
  },
  {
   "cell_type": "markdown",
   "id": "4b2eae0b-bd2a-4ac7-9db5-2dec5c7c78be",
   "metadata": {},
   "source": [
    "## Univariate Exploration\n",
    "***"
   ]
  },
  {
   "cell_type": "markdown",
   "id": "c06fa817-759e-4c21-b359-0a39902af474",
   "metadata": {},
   "source": [
    "## What is the distribution of sales made throughout the period given?"
   ]
  },
  {
   "cell_type": "code",
   "execution_count": 17,
   "id": "544731a2-bbd8-462e-84d5-ecc07ea03aae",
   "metadata": {},
   "outputs": [
    {
     "data": {
      "image/png": "[encoded data removed]",
      "text/plain": [
       "<Figure size 432x288 with 1 Axes>"
      ]
     },
     "metadata": {
      "needs_background": "light"
     },
     "output_type": "display_data"
    },
    {
     "data": {
      "image/png": "[encoded data removed]",
      "text/plain": [
       "<Figure size 432x288 with 1 Axes>"
      ]
     },
     "metadata": {
      "needs_background": "light"
     },
     "output_type": "display_data"
    }
   ],
   "source": [
    "\n",
    "plt.hist(data=df, x='sales');\n",
    "plt.show()\n",
    "bins_max = np.log10(df.sales.max())\n",
    "bin_min=np.log10(df.sales.min())\n",
    "bins_trans = 10**np.linspace(2, bins_max, 30)\n",
    "plt.hist(data=df, x='sales',bins=bins_trans)\n",
    "plt.xscale('log')\n",
    "plt.xticks([500, 1e3, 2e3, 5e3, 1e4, 2e4], [500, '1k', '2k', '5k', '10k', '20k']);\n",
    "plt.show()"
   ]
  },
  {
   "cell_type": "markdown",
   "id": "8ab98aa0-a1b4-4601-8c6b-2fa54bb36d36",
   "metadata": {},
   "source": [
    "> - The distribution of the sales data is right skewed due to the presence of far more expensive goods in the mix.The first plot shows that most of the products are below 14,000 dollars.  \n",
    ">- Acounting for the large variation sales with log scale, the resulting graph displays a unimodal distribution with the peak around 3,000 and 4,000 dollars."
   ]
  },
  {
   "cell_type": "markdown",
   "id": "dfb6c07b-0f06-4878-8d78-1f8deed1d660",
   "metadata": {},
   "source": [
    "## What is the distribution of profit made by the company throughout the period?"
   ]
  },
  {
   "cell_type": "code",
   "execution_count": 46,
   "id": "002636da-23ef-454a-bf81-5b29275837e3",
   "metadata": {},
   "outputs": [
    {
     "data": {
      "image/png": "[encoded data removed]",
      "text/plain": [
       "<Figure size 432x288 with 1 Axes>"
      ]
     },
     "metadata": {
      "needs_background": "light"
     },
     "output_type": "display_data"
    },
    {
     "data": {
      "image/png": "[encoded data removed]",
      "text/plain": [
       "<Figure size 432x288 with 1 Axes>"
      ]
     },
     "metadata": {
      "needs_background": "light"
     },
     "output_type": "display_data"
    }
   ],
   "source": [
    "plt.hist(data=df, x='profit')\n",
    "plt.show()\n",
    "bins=np.linspace(0,df.profit.max(),50)\n",
    "plt.hist(data=df, x='profit',bins=bins)\n",
    "ticks=[2e2,2e3,4e3,6e3,8e3]\n",
    "label=['0.2k','2k','4k','6k','8k']\n",
    "plt.xticks(ticks, label)\n",
    "plt.show()"
   ]
  },
  {
   "cell_type": "markdown",
   "id": "37c1d170-29d8-4e6a-848b-453d6c679fa5",
   "metadata": {},
   "source": [
    "### Observation\n",
    "> - The profit distribution is right skewed. This is as expected because there many product lines and the gain from each one differ from one to the other.\n",
    ">- The second histogram have peak just below 200 dollars. This clearly shows that the company makes less than 200 dollars even though they can make up to 7,000 dollars in profit."
   ]
  },
  {
   "cell_type": "markdown",
   "id": "2a6c5781-5270-40e1-829b-ac9390b1ddfc",
   "metadata": {},
   "source": [
    "## What is the distribution of the quantity of goods ordered by customers?"
   ]
  },
  {
   "cell_type": "code",
   "execution_count": 77,
   "id": "1637c9c9-b53f-4879-aaef-2ec999c3afdd",
   "metadata": {},
   "outputs": [
    {
     "data": {
      "image/png": "[encoded data removed]",
      "text/plain": [
       "<Figure size 432x288 with 1 Axes>"
      ]
     },
     "metadata": {
      "needs_background": "light"
     },
     "output_type": "display_data"
    },
    {
     "data": {
      "image/png": "[encoded data removed]",
      "text/plain": [
       "<Figure size 432x288 with 1 Axes>"
      ]
     },
     "metadata": {
      "needs_background": "light"
     },
     "output_type": "display_data"
    }
   ],
   "source": [
    "plt.hist(data=df,x='quantity_ordered')\n",
    "plt.xlabel(\"Quanity Ordered\")\n",
    "plt.show()\n",
    "bin_s=np.linspace(6,df.quantity_ordered.max(),30)\n",
    "plt.hist(data=df,x='quantity_ordered',bins=bin_s)\n",
    "plt.xlabel(\"Quanity Ordered\")\n",
    "plt.show()"
   ]
  },
  {
   "cell_type": "markdown",
   "id": "7712e592-69cb-49b3-95e5-c87c317dbea1",
   "metadata": {},
   "source": [
    "> The first graph shows clearly that there is a high proportion of orders between 20 and 50 placed by the customers \n",
    "> Order quantity displays a multimodal distribution with peak around 25 and 45 respectively. The peaks of the histogram suggest 2 categories of orders influenced by certain customers"
   ]
  },
  {
   "cell_type": "markdown",
   "id": "279bc12d-ffd7-4d41-b41b-7debc81fde87",
   "metadata": {},
   "source": [
    "## How are the following features distributed: names,status,product_line, deal_size"
   ]
  },
  {
   "cell_type": "code",
   "execution_count": 96,
   "id": "4ca67609-13f6-442b-a4ad-152366d030ff",
   "metadata": {},
   "outputs": [
    {
     "data": {
      "image/png": "[encoded data removed]",
      "text/plain": [
       "<Figure size 432x288 with 1 Axes>"
      ]
     },
     "metadata": {
      "needs_background": "light"
     },
     "output_type": "display_data"
    }
   ],
   "source": [
    "b_color=sns.color_palette()[0]\n",
    "sns.countplot(data=df,y='name',color=b_color,order=df.name.value_counts().index)\n",
    "plt.show()"
   ]
  },
  {
   "cell_type": "markdown",
   "id": "9c9def8f-8ce9-4a33-9f37-edf2a6012ea9",
   "metadata": {},
   "source": [
    ">- Harmani Calderoni was able to pull about 300 (10.9%) customers within the period given in the data\n",
    ">- Theodore Drayers Pulled the least number of customers, 10 (0.4%)\n",
    ">- However, this visualization does not indicate which sales rep generated the most or the least revenue through out the period given in the data"
   ]
  },
  {
   "cell_type": "markdown",
   "id": "e20db846-5d92-4813-9a26-8159bd9989df",
   "metadata": {},
   "source": [
    "## What is the distribution of sales' status categories?"
   ]
  },
  {
   "cell_type": "code",
   "execution_count": 92,
   "id": "9bb877b2-85ed-4527-b421-652732b98f6c",
   "metadata": {},
   "outputs": [
    {
     "data": {
      "image/png": "[encoded data removed]",
      "text/plain": [
       "<Figure size 432x288 with 1 Axes>"
      ]
     },
     "metadata": {
      "needs_background": "light"
     },
     "output_type": "display_data"
    }
   ],
   "source": [
    "sns.countplot(data=df,x='status',color=b_color,order=df.status.value_counts().index);"
   ]
  },
  {
   "cell_type": "markdown",
   "id": "4f4f38f2-bc9e-4acc-8b64-a757291ef4ad",
   "metadata": {},
   "source": [
    ">-  more than 2500 orders (92.7%) were shipped\n",
    ">-  About 2.1% orders couldn't be resolved, they were cancelled\n",
    ">-  Minimal disputed orders (0.5%)"
   ]
  },
  {
   "cell_type": "markdown",
   "id": "4d173aa1-05c0-45cf-b3af-87c94e9baab2",
   "metadata": {},
   "source": [
    "## What is deal size distributed?"
   ]
  },
  {
   "cell_type": "code",
   "execution_count": 106,
   "id": "ef0611b2-5719-4fdd-ba95-f1e329101318",
   "metadata": {},
   "outputs": [
    {
     "data": {
      "image/png": "[encoded data removed]",
      "text/plain": [
       "<Figure size 432x288 with 1 Axes>"
      ]
     },
     "metadata": {
      "needs_background": "light"
     },
     "output_type": "display_data"
    }
   ],
   "source": [
    "deal_size=['Small','Medium','Large'] \n",
    "order_sizes = pd.api.types.CategoricalDtype(ordered=True, categories=deal_size)\n",
    "df['deal_size']=df['deal_size'].astype(order_sizes)\n",
    "sns.countplot(data=df,x='deal_size',color=b_color);"
   ]
  },
  {
   "cell_type": "markdown",
   "id": "c44a5310-84cd-447a-874e-92a4dcb4262c",
   "metadata": {},
   "source": [
    ">-  Three unique deal sizes were represented in the data\n",
    ">-  Of the deal sizes, the Large deal size were the least considering number of transactions\n",
    ">-  Most customers settle for medium deal size and small deal size."
   ]
  },
  {
   "cell_type": "markdown",
   "id": "15aa30da-a34a-4e80-88a2-208796d4340e",
   "metadata": {},
   "source": [
    "## How are the product line distributed?"
   ]
  },
  {
   "cell_type": "code",
   "execution_count": 110,
   "id": "a9948841-f4ac-4672-b4a1-9a427d7d3ec1",
   "metadata": {},
   "outputs": [
    {
     "data": {
      "text/plain": [
       "<AxesSubplot:xlabel='count', ylabel='product_line'>"
      ]
     },
     "execution_count": 110,
     "metadata": {},
     "output_type": "execute_result"
    },
    {
     "data": {
      "image/png": "[encoded data removed]",
      "text/plain": [
       "<Figure size 432x288 with 1 Axes>"
      ]
     },
     "metadata": {
      "needs_background": "light"
     },
     "output_type": "display_data"
    }
   ],
   "source": [
    "vt=['Motorcycles','Vintage Cars','Classic Cars','Trucks and Buses','Planes','Trains','Ships']\n",
    "vt_order = pd.api.types.CategoricalDtype(ordered=True, categories=vt)\n",
    "df['product_line']=df.product_line.astype(vt_order)\n",
    "sns.countplot(data=df, y='product_line',color=b_color)"
   ]
  },
  {
   "cell_type": "markdown",
   "id": "441aa447-65b5-4ed4-aab3-5ea96797ee84",
   "metadata": {},
   "source": [
    ">- Classic cars is the highest (34.2%) sold product per transaction\n",
    ">- Trains are the least sold per transaction"
   ]
  },
  {
   "cell_type": "code",
   "execution_count": 115,
   "id": "a2ed6981-cda3-46b5-8858-864cee5260c6",
   "metadata": {},
   "outputs": [
    {
     "data": {
      "text/html": [
       "<div>\n",
       "<style scoped>\n",
       "    .dataframe tbody tr th:only-of-type {\n",
       "        vertical-align: middle;\n",
       "    }\n",
       "\n",
       "    .dataframe tbody tr th {\n",
       "        vertical-align: top;\n",
       "    }\n",
       "\n",
       "    .dataframe thead th {\n",
       "        text-align: right;\n",
       "    }\n",
       "</style>\n",
       "<table border=\"1\" class=\"dataframe\">\n",
       "  <thead>\n",
       "    <tr style=\"text-align: right;\">\n",
       "      <th></th>\n",
       "      <th>customer_name</th>\n",
       "    </tr>\n",
       "  </thead>\n",
       "  <tbody>\n",
       "    <tr>\n",
       "      <th>Euro Shopping Channel</th>\n",
       "      <td>259</td>\n",
       "    </tr>\n",
       "    <tr>\n",
       "      <th>Mini Gifts Distributors Ltd.</th>\n",
       "      <td>180</td>\n",
       "    </tr>\n",
       "    <tr>\n",
       "      <th>Australian Collectors, Co.</th>\n",
       "      <td>55</td>\n",
       "    </tr>\n",
       "    <tr>\n",
       "      <th>La Rochelle Gifts</th>\n",
       "      <td>53</td>\n",
       "    </tr>\n",
       "    <tr>\n",
       "      <th>AV Stores, Co.</th>\n",
       "      <td>51</td>\n",
       "    </tr>\n",
       "    <tr>\n",
       "      <th>Land of Toys Inc.</th>\n",
       "      <td>49</td>\n",
       "    </tr>\n",
       "    <tr>\n",
       "      <th>Muscle Machine Inc</th>\n",
       "      <td>48</td>\n",
       "    </tr>\n",
       "    <tr>\n",
       "      <th>Rovelli Gifts</th>\n",
       "      <td>48</td>\n",
       "    </tr>\n",
       "    <tr>\n",
       "      <th>Anna's Decorations, Ltd</th>\n",
       "      <td>46</td>\n",
       "    </tr>\n",
       "    <tr>\n",
       "      <th>Souveniers And Things Co.</th>\n",
       "      <td>46</td>\n",
       "    </tr>\n",
       "  </tbody>\n",
       "</table>\n",
       "</div>"
      ],
      "text/plain": [
       "                              customer_name\n",
       "Euro Shopping Channel                   259\n",
       "Mini Gifts Distributors Ltd.            180\n",
       "Australian Collectors, Co.               55\n",
       "La Rochelle Gifts                        53\n",
       "AV Stores, Co.                           51\n",
       "Land of Toys Inc.                        49\n",
       "Muscle Machine Inc                       48\n",
       "Rovelli Gifts                            48\n",
       "Anna's Decorations, Ltd                  46\n",
       "Souveniers And Things Co.                46"
      ]
     },
     "execution_count": 115,
     "metadata": {},
     "output_type": "execute_result"
    }
   ],
   "source": [
    "# top 10 customers according to number of transactions made\n",
    "pd.DataFrame(df.customer_name.value_counts()).head(10)"
   ]
  },
  {
   "cell_type": "code",
   "execution_count": 116,
   "id": "e3d6c389-9b28-44f6-b0dc-3886433451f0",
   "metadata": {},
   "outputs": [
    {
     "data": {
      "text/html": [
       "<div>\n",
       "<style scoped>\n",
       "    .dataframe tbody tr th:only-of-type {\n",
       "        vertical-align: middle;\n",
       "    }\n",
       "\n",
       "    .dataframe tbody tr th {\n",
       "        vertical-align: top;\n",
       "    }\n",
       "\n",
       "    .dataframe thead th {\n",
       "        text-align: right;\n",
       "    }\n",
       "</style>\n",
       "<table border=\"1\" class=\"dataframe\">\n",
       "  <thead>\n",
       "    <tr style=\"text-align: right;\">\n",
       "      <th></th>\n",
       "      <th>customer_name</th>\n",
       "    </tr>\n",
       "  </thead>\n",
       "  <tbody>\n",
       "    <tr>\n",
       "      <th>Men 'R' US Retailers, Ltd.</th>\n",
       "      <td>14</td>\n",
       "    </tr>\n",
       "    <tr>\n",
       "      <th>CAF Imports</th>\n",
       "      <td>13</td>\n",
       "    </tr>\n",
       "    <tr>\n",
       "      <th>West Coast Collectables Co.</th>\n",
       "      <td>13</td>\n",
       "    </tr>\n",
       "    <tr>\n",
       "      <th>Double Decker Gift Stores, Ltd</th>\n",
       "      <td>12</td>\n",
       "    </tr>\n",
       "    <tr>\n",
       "      <th>Cambridge Collectables Co.</th>\n",
       "      <td>11</td>\n",
       "    </tr>\n",
       "    <tr>\n",
       "      <th>Microscale Inc.</th>\n",
       "      <td>10</td>\n",
       "    </tr>\n",
       "    <tr>\n",
       "      <th>Royale Belge</th>\n",
       "      <td>8</td>\n",
       "    </tr>\n",
       "    <tr>\n",
       "      <th>Auto-Moto Classics Inc.</th>\n",
       "      <td>8</td>\n",
       "    </tr>\n",
       "    <tr>\n",
       "      <th>Atelier graphique</th>\n",
       "      <td>7</td>\n",
       "    </tr>\n",
       "    <tr>\n",
       "      <th>Boards &amp; Toys Co.</th>\n",
       "      <td>3</td>\n",
       "    </tr>\n",
       "  </tbody>\n",
       "</table>\n",
       "</div>"
      ],
      "text/plain": [
       "                                customer_name\n",
       "Men 'R' US Retailers, Ltd.                 14\n",
       "CAF Imports                                13\n",
       "West Coast Collectables Co.                13\n",
       "Double Decker Gift Stores, Ltd             12\n",
       "Cambridge Collectables Co.                 11\n",
       "Microscale Inc.                            10\n",
       "Royale Belge                                8\n",
       "Auto-Moto Classics Inc.                     8\n",
       "Atelier graphique                           7\n",
       "Boards & Toys Co.                           3"
      ]
     },
     "execution_count": 116,
     "metadata": {},
     "output_type": "execute_result"
    }
   ],
   "source": [
    "# leat 10 customers according to number of transactions made\n",
    "pd.DataFrame(df.customer_name.value_counts()).tail(10)"
   ]
  },
  {
   "cell_type": "code",
   "execution_count": 118,
   "id": "8ee6f920-1460-4cec-b21d-3c277948b062",
   "metadata": {},
   "outputs": [
    {
     "data": {
      "image/png": "[encoded data removed]",
      "text/plain": [
       "<Figure size 432x288 with 1 Axes>"
      ]
     },
     "metadata": {
      "needs_background": "light"
     },
     "output_type": "display_data"
    }
   ],
   "source": [
    "sns.countplot(data=df,y='country',color=b_color,order=df.country.value_counts().index);"
   ]
  },
  {
   "cell_type": "code",
   "execution_count": 170,
   "id": "3f84a617-1109-433c-a526-f3dcf82423bc",
   "metadata": {},
   "outputs": [
    {
     "name": "stdout",
     "output_type": "stream",
     "text": [
      "last sale data collection happend in 0    December\n",
      "Name: max_date, dtype: object,2005\n"
     ]
    },
    {
     "data": {
      "image/png": "[encoded data removed]",
      "text/plain": [
       "<Figure size 648x576 with 3 Axes>"
      ]
     },
     "metadata": {
      "needs_background": "light"
     },
     "output_type": "display_data"
    }
   ],
   "source": [
    "# Store the listing date breakdowns and their plotting indices in a dictionary\n",
    "sale_breakdown = {\n",
    "    'sale_years' : [1, df.order_date.dt.year],\n",
    "    'sale_months' : [2, df.order_date.dt.month],\n",
    "    'sale_days' : [3, df.order_date.dt.day],\n",
    "}\n",
    "\n",
    "# Plot the required information using a for loop\n",
    "fig = plt.figure(figsize=(9, 8))\n",
    "\n",
    "for key, value in sale_breakdown.items():\n",
    "    plt.subplot(4, 1, value[0])\n",
    "    sns.countplot(x= value[1], color = b_color)\n",
    "    # Replace the month's integer values (0 - 12) with descriptive strings\n",
    "    if (key == 'sale_months'):\n",
    "        plt.xticks(np.arange(12), \n",
    "                   ['Jan','Feb','Mar','Apr','May','Jun','Jul','Aug','Sept','Oct','Nov','Dec'])\n",
    "plt.tight_layout();\n",
    "\n",
    "x=pd.DataFrame([df.order_date.max(),])\n",
    "x.columns=['max_date']\n",
    "x.max_date=pd.to_datetime(x.max_date)\n",
    "print('last sale data collection happend in {},2005'.format(x.max_date.dt.month_name()))"
   ]
  },
  {
   "cell_type": "markdown",
   "id": "50a30287-a368-4724-a70e-9dff1f8c09af",
   "metadata": {},
   "source": [
    ">-  Although there was a gradual increase in sales transctions between 2003 and 2004, it decline 2005\n",
    ">-  Slaes transaction mostly occure in Novembr\n",
    ">-  Slaes transactions vary everyday of the month. However, Day 11 seem to accomodate many sales transactions compared to order days"
   ]
  },
  {
   "cell_type": "code",
   "execution_count": 171,
   "id": "ef8e4a35-e1f4-489a-a657-826e94be2dbe",
   "metadata": {},
   "outputs": [
    {
     "data": {
      "text/html": [
       "<div>\n",
       "<style scoped>\n",
       "    .dataframe tbody tr th:only-of-type {\n",
       "        vertical-align: middle;\n",
       "    }\n",
       "\n",
       "    .dataframe tbody tr th {\n",
       "        vertical-align: top;\n",
       "    }\n",
       "\n",
       "    .dataframe thead th {\n",
       "        text-align: right;\n",
       "    }\n",
       "</style>\n",
       "<table border=\"1\" class=\"dataframe\">\n",
       "  <thead>\n",
       "    <tr style=\"text-align: right;\">\n",
       "      <th></th>\n",
       "      <th>order_number</th>\n",
       "      <th>quantity_ordered</th>\n",
       "      <th>price_each</th>\n",
       "      <th>cost_of_goods</th>\n",
       "      <th>order_line_number</th>\n",
       "      <th>sales</th>\n",
       "      <th>profit</th>\n",
       "      <th>order_date</th>\n",
       "      <th>status</th>\n",
       "      <th>product_line</th>\n",
       "      <th>msrp</th>\n",
       "      <th>product_code</th>\n",
       "      <th>customer_name</th>\n",
       "      <th>city</th>\n",
       "      <th>postal_code</th>\n",
       "      <th>country</th>\n",
       "      <th>deal_size</th>\n",
       "      <th>name</th>\n",
       "    </tr>\n",
       "  </thead>\n",
       "  <tbody>\n",
       "    <tr>\n",
       "      <th>0</th>\n",
       "      <td>10223</td>\n",
       "      <td>37</td>\n",
       "      <td>100.00</td>\n",
       "      <td>3700.00</td>\n",
       "      <td>1</td>\n",
       "      <td>3965.66</td>\n",
       "      <td>265.66</td>\n",
       "      <td>2004-02-20</td>\n",
       "      <td>Shipped</td>\n",
       "      <td>Motorcycles</td>\n",
       "      <td>95</td>\n",
       "      <td>S10_1678</td>\n",
       "      <td>Australian Collectors, Co.</td>\n",
       "      <td>Melbourne</td>\n",
       "      <td>3004</td>\n",
       "      <td>Australia</td>\n",
       "      <td>Medium</td>\n",
       "      <td>Harmani Calderoni</td>\n",
       "    </tr>\n",
       "    <tr>\n",
       "      <th>1</th>\n",
       "      <td>10318</td>\n",
       "      <td>46</td>\n",
       "      <td>94.74</td>\n",
       "      <td>4358.04</td>\n",
       "      <td>1</td>\n",
       "      <td>4358.04</td>\n",
       "      <td>0.00</td>\n",
       "      <td>2004-02-11</td>\n",
       "      <td>Shipped</td>\n",
       "      <td>Motorcycles</td>\n",
       "      <td>95</td>\n",
       "      <td>S10_1678</td>\n",
       "      <td>Diecast Classics Inc.</td>\n",
       "      <td>Allentown</td>\n",
       "      <td>70267</td>\n",
       "      <td>USA</td>\n",
       "      <td>Medium</td>\n",
       "      <td>Harmani Calderoni</td>\n",
       "    </tr>\n",
       "    <tr>\n",
       "      <th>2</th>\n",
       "      <td>10210</td>\n",
       "      <td>34</td>\n",
       "      <td>100.00</td>\n",
       "      <td>3400.00</td>\n",
       "      <td>1</td>\n",
       "      <td>6123.40</td>\n",
       "      <td>2723.40</td>\n",
       "      <td>2004-12-01</td>\n",
       "      <td>Shipped</td>\n",
       "      <td>Motorcycles</td>\n",
       "      <td>193</td>\n",
       "      <td>S10_4698</td>\n",
       "      <td>Osaka Souveniers Co.</td>\n",
       "      <td>Osaka</td>\n",
       "      <td>530-0003</td>\n",
       "      <td>Japan</td>\n",
       "      <td>Medium</td>\n",
       "      <td>Harmani Calderoni</td>\n",
       "    </tr>\n",
       "    <tr>\n",
       "      <th>3</th>\n",
       "      <td>10377</td>\n",
       "      <td>50</td>\n",
       "      <td>100.00</td>\n",
       "      <td>5000.00</td>\n",
       "      <td>1</td>\n",
       "      <td>5182.00</td>\n",
       "      <td>182.00</td>\n",
       "      <td>2005-09-02</td>\n",
       "      <td>Shipped</td>\n",
       "      <td>Classic Cars</td>\n",
       "      <td>115</td>\n",
       "      <td>S12_4675</td>\n",
       "      <td>Toys of Finland, Co.</td>\n",
       "      <td>Helsinki</td>\n",
       "      <td>21240</td>\n",
       "      <td>Finland</td>\n",
       "      <td>Medium</td>\n",
       "      <td>Harmani Calderoni</td>\n",
       "    </tr>\n",
       "    <tr>\n",
       "      <th>4</th>\n",
       "      <td>10419</td>\n",
       "      <td>37</td>\n",
       "      <td>100.00</td>\n",
       "      <td>3700.00</td>\n",
       "      <td>1</td>\n",
       "      <td>5202.94</td>\n",
       "      <td>1502.94</td>\n",
       "      <td>2005-05-17</td>\n",
       "      <td>Shipped</td>\n",
       "      <td>Classic Cars</td>\n",
       "      <td>124</td>\n",
       "      <td>S18_1589</td>\n",
       "      <td>Salzburg Collectables</td>\n",
       "      <td>Salzburg</td>\n",
       "      <td>5020</td>\n",
       "      <td>Austria</td>\n",
       "      <td>Medium</td>\n",
       "      <td>Harmani Calderoni</td>\n",
       "    </tr>\n",
       "    <tr>\n",
       "      <th>...</th>\n",
       "      <td>...</td>\n",
       "      <td>...</td>\n",
       "      <td>...</td>\n",
       "      <td>...</td>\n",
       "      <td>...</td>\n",
       "      <td>...</td>\n",
       "      <td>...</td>\n",
       "      <td>...</td>\n",
       "      <td>...</td>\n",
       "      <td>...</td>\n",
       "      <td>...</td>\n",
       "      <td>...</td>\n",
       "      <td>...</td>\n",
       "      <td>...</td>\n",
       "      <td>...</td>\n",
       "      <td>...</td>\n",
       "      <td>...</td>\n",
       "      <td>...</td>\n",
       "    </tr>\n",
       "    <tr>\n",
       "      <th>2818</th>\n",
       "      <td>10168</td>\n",
       "      <td>27</td>\n",
       "      <td>73.02</td>\n",
       "      <td>1971.54</td>\n",
       "      <td>18</td>\n",
       "      <td>1971.54</td>\n",
       "      <td>0.00</td>\n",
       "      <td>2003-10-28</td>\n",
       "      <td>Shipped</td>\n",
       "      <td>Planes</td>\n",
       "      <td>68</td>\n",
       "      <td>S24_3949</td>\n",
       "      <td>Technics Stores Inc.</td>\n",
       "      <td>Burlingame</td>\n",
       "      <td>94217</td>\n",
       "      <td>USA</td>\n",
       "      <td>Small</td>\n",
       "      <td>Theodore Drayers</td>\n",
       "    </tr>\n",
       "    <tr>\n",
       "      <th>2819</th>\n",
       "      <td>10159</td>\n",
       "      <td>42</td>\n",
       "      <td>51.48</td>\n",
       "      <td>2162.16</td>\n",
       "      <td>18</td>\n",
       "      <td>2162.16</td>\n",
       "      <td>0.00</td>\n",
       "      <td>2003-10-10</td>\n",
       "      <td>Shipped</td>\n",
       "      <td>Motorcycles</td>\n",
       "      <td>60</td>\n",
       "      <td>S18_2625</td>\n",
       "      <td>Corporate Gift Ideas Co.</td>\n",
       "      <td>San Francisco</td>\n",
       "      <td>NaN</td>\n",
       "      <td>USA</td>\n",
       "      <td>Small</td>\n",
       "      <td>Theodore Drayers</td>\n",
       "    </tr>\n",
       "    <tr>\n",
       "      <th>2820</th>\n",
       "      <td>10222</td>\n",
       "      <td>36</td>\n",
       "      <td>63.34</td>\n",
       "      <td>2280.24</td>\n",
       "      <td>18</td>\n",
       "      <td>2280.24</td>\n",
       "      <td>0.00</td>\n",
       "      <td>2004-02-19</td>\n",
       "      <td>Shipped</td>\n",
       "      <td>Ships</td>\n",
       "      <td>54</td>\n",
       "      <td>S72_3212</td>\n",
       "      <td>Collectable Mini Designs Co.</td>\n",
       "      <td>San Diego</td>\n",
       "      <td>91217</td>\n",
       "      <td>USA</td>\n",
       "      <td>Small</td>\n",
       "      <td>Theodore Drayers</td>\n",
       "    </tr>\n",
       "    <tr>\n",
       "      <th>2821</th>\n",
       "      <td>10165</td>\n",
       "      <td>31</td>\n",
       "      <td>71.10</td>\n",
       "      <td>2204.10</td>\n",
       "      <td>18</td>\n",
       "      <td>2204.10</td>\n",
       "      <td>0.00</td>\n",
       "      <td>2003-10-22</td>\n",
       "      <td>Shipped</td>\n",
       "      <td>Trucks and Buses</td>\n",
       "      <td>60</td>\n",
       "      <td>S18_2432</td>\n",
       "      <td>Dragon Souveniers, Ltd.</td>\n",
       "      <td>Singapore</td>\n",
       "      <td>79903</td>\n",
       "      <td>Singapore</td>\n",
       "      <td>Small</td>\n",
       "      <td>Theodore Drayers</td>\n",
       "    </tr>\n",
       "    <tr>\n",
       "      <th>2822</th>\n",
       "      <td>10316</td>\n",
       "      <td>48</td>\n",
       "      <td>74.45</td>\n",
       "      <td>3573.60</td>\n",
       "      <td>18</td>\n",
       "      <td>3573.60</td>\n",
       "      <td>0.00</td>\n",
       "      <td>2004-01-11</td>\n",
       "      <td>Shipped</td>\n",
       "      <td>Ships</td>\n",
       "      <td>72</td>\n",
       "      <td>S700_2610</td>\n",
       "      <td>giftsbymail.co.uk</td>\n",
       "      <td>Cowes</td>\n",
       "      <td>PO31 7PJ</td>\n",
       "      <td>UK</td>\n",
       "      <td>Medium</td>\n",
       "      <td>Theodore Drayers</td>\n",
       "    </tr>\n",
       "  </tbody>\n",
       "</table>\n",
       "<p>2823 rows × 18 columns</p>\n",
       "</div>"
      ],
      "text/plain": [
       "     order_number  quantity_ordered  price_each  cost_of_goods  \\\n",
       "0           10223                37      100.00        3700.00   \n",
       "1           10318                46       94.74        4358.04   \n",
       "2           10210                34      100.00        3400.00   \n",
       "3           10377                50      100.00        5000.00   \n",
       "4           10419                37      100.00        3700.00   \n",
       "...           ...               ...         ...            ...   \n",
       "2818        10168                27       73.02        1971.54   \n",
       "2819        10159                42       51.48        2162.16   \n",
       "2820        10222                36       63.34        2280.24   \n",
       "2821        10165                31       71.10        2204.10   \n",
       "2822        10316                48       74.45        3573.60   \n",
       "\n",
       "     order_line_number    sales   profit order_date   status  \\\n",
       "0                    1  3965.66   265.66 2004-02-20  Shipped   \n",
       "1                    1  4358.04     0.00 2004-02-11  Shipped   \n",
       "2                    1  6123.40  2723.40 2004-12-01  Shipped   \n",
       "3                    1  5182.00   182.00 2005-09-02  Shipped   \n",
       "4                    1  5202.94  1502.94 2005-05-17  Shipped   \n",
       "...                ...      ...      ...        ...      ...   \n",
       "2818                18  1971.54     0.00 2003-10-28  Shipped   \n",
       "2819                18  2162.16     0.00 2003-10-10  Shipped   \n",
       "2820                18  2280.24     0.00 2004-02-19  Shipped   \n",
       "2821                18  2204.10     0.00 2003-10-22  Shipped   \n",
       "2822                18  3573.60     0.00 2004-01-11  Shipped   \n",
       "\n",
       "          product_line  msrp product_code                 customer_name  \\\n",
       "0          Motorcycles    95     S10_1678    Australian Collectors, Co.   \n",
       "1          Motorcycles    95     S10_1678         Diecast Classics Inc.   \n",
       "2          Motorcycles   193     S10_4698          Osaka Souveniers Co.   \n",
       "3         Classic Cars   115     S12_4675          Toys of Finland, Co.   \n",
       "4         Classic Cars   124     S18_1589         Salzburg Collectables   \n",
       "...                ...   ...          ...                           ...   \n",
       "2818            Planes    68     S24_3949          Technics Stores Inc.   \n",
       "2819       Motorcycles    60     S18_2625      Corporate Gift Ideas Co.   \n",
       "2820             Ships    54     S72_3212  Collectable Mini Designs Co.   \n",
       "2821  Trucks and Buses    60     S18_2432       Dragon Souveniers, Ltd.   \n",
       "2822             Ships    72    S700_2610             giftsbymail.co.uk   \n",
       "\n",
       "               city postal_code    country deal_size               name  \n",
       "0         Melbourne        3004  Australia    Medium  Harmani Calderoni  \n",
       "1         Allentown       70267        USA    Medium  Harmani Calderoni  \n",
       "2             Osaka    530-0003      Japan    Medium  Harmani Calderoni  \n",
       "3          Helsinki       21240    Finland    Medium  Harmani Calderoni  \n",
       "4          Salzburg        5020    Austria    Medium  Harmani Calderoni  \n",
       "...             ...         ...        ...       ...                ...  \n",
       "2818     Burlingame       94217        USA     Small   Theodore Drayers  \n",
       "2819  San Francisco         NaN        USA     Small   Theodore Drayers  \n",
       "2820      San Diego       91217        USA     Small   Theodore Drayers  \n",
       "2821      Singapore       79903  Singapore     Small   Theodore Drayers  \n",
       "2822          Cowes    PO31 7PJ         UK    Medium   Theodore Drayers  \n",
       "\n",
       "[2823 rows x 18 columns]"
      ]
     },
     "execution_count": 171,
     "metadata": {},
     "output_type": "execute_result"
    }
   ],
   "source": [
    "df"
   ]
  },
  {
   "cell_type": "code",
   "execution_count": null,
   "id": "193aec42-1474-4fea-af53-e7d815fedc53",
   "metadata": {},
   "outputs": [],
   "source": []
  },
  {
   "cell_type": "code",
   "execution_count": null,
   "id": "267b243f-9338-4a59-9444-a436ff071b23",
   "metadata": {},
   "outputs": [],
   "source": []
  },
  {
   "cell_type": "code",
   "execution_count": null,
   "id": "4f1e8840-be3c-4116-8063-be55fd22d889",
   "metadata": {},
   "outputs": [],
   "source": []
  },
  {
   "cell_type": "code",
   "execution_count": null,
   "id": "ac3ee789-e647-435e-932b-80dfbb7b83b9",
   "metadata": {},
   "outputs": [],
   "source": []
  },
  {
   "cell_type": "code",
   "execution_count": null,
   "id": "ce115c02-e724-4b5f-9471-cb28252bb12e",
   "metadata": {},
   "outputs": [],
   "source": []
  },
  {
   "cell_type": "code",
   "execution_count": null,
   "id": "844e29af-e89a-4ebd-bd81-c6b959219380",
   "metadata": {},
   "outputs": [],
   "source": []
  },
  {
   "cell_type": "code",
   "execution_count": null,
   "id": "bbbfb271-dd90-4e28-b6b4-2bbe299661d6",
   "metadata": {},
   "outputs": [],
   "source": []
  },
  {
   "cell_type": "code",
   "execution_count": null,
   "id": "58af0b8c-6cf6-45ae-9539-3e39037dda85",
   "metadata": {},
   "outputs": [],
   "source": []
  },
  {
   "cell_type": "code",
   "execution_count": null,
   "id": "df1994d2-ba4d-4275-8d4a-b42ef7c7d575",
   "metadata": {},
   "outputs": [],
   "source": []
  },
  {
   "cell_type": "code",
   "execution_count": null,
   "id": "f058081d-f62d-4c2f-aaad-40ed1a5672e3",
   "metadata": {},
   "outputs": [],
   "source": []
  },
  {
   "cell_type": "code",
   "execution_count": null,
   "id": "c16f5204-f9c5-4f6a-90ca-c80a82448b6a",
   "metadata": {},
   "outputs": [],
   "source": []
  },
  {
   "cell_type": "code",
   "execution_count": null,
   "id": "c5222270-c860-46b8-8967-cc398ec0ecce",
   "metadata": {},
   "outputs": [],
   "source": []
  },
  {
   "cell_type": "code",
   "execution_count": null,
   "id": "3e0d93ef-11f9-4139-8c37-2d38652f290f",
   "metadata": {},
   "outputs": [],
   "source": []
  },
  {
   "cell_type": "code",
   "execution_count": null,
   "id": "1a9ccc51-a1ea-45a4-8cd0-6b5ad9fcab9c",
   "metadata": {},
   "outputs": [],
   "source": []
  },
  {
   "cell_type": "code",
   "execution_count": null,
   "id": "3d817892-9411-47d2-913e-b7fbd89c8668",
   "metadata": {},
   "outputs": [],
   "source": []
  },
  {
   "cell_type": "code",
   "execution_count": null,
   "id": "30382f35-6452-4d08-8acc-c3507b867466",
   "metadata": {},
   "outputs": [],
   "source": []
  },
  {
   "cell_type": "code",
   "execution_count": null,
   "id": "de462e6f-a9e8-455b-8769-2b1cde4d46bd",
   "metadata": {},
   "outputs": [],
   "source": []
  },
  {
   "cell_type": "code",
   "execution_count": null,
   "id": "e2776e74-c9f3-4fff-bcf8-fcc942f08e21",
   "metadata": {},
   "outputs": [],
   "source": []
  },
  {
   "cell_type": "code",
   "execution_count": null,
   "id": "fe2d94c6-af02-458b-883c-f752d269c987",
   "metadata": {},
   "outputs": [],
   "source": []
  },
  {
   "cell_type": "code",
   "execution_count": null,
   "id": "c4d3b6a2-2b55-4cf9-bb91-9438dd0ebe43",
   "metadata": {},
   "outputs": [],
   "source": []
  },
  {
   "cell_type": "code",
   "execution_count": null,
   "id": "5b1c1789-21fb-4dce-a06f-c91a8e822ffc",
   "metadata": {},
   "outputs": [],
   "source": []
  },
  {
   "cell_type": "code",
   "execution_count": null,
   "id": "b66fdd8a-47ed-45b8-93d6-65ebeb81e910",
   "metadata": {},
   "outputs": [],
   "source": []
  },
  {
   "cell_type": "code",
   "execution_count": 68,
   "id": "34d1fd60-4f96-4682-a2c3-bb8cada50f30",
   "metadata": {},
   "outputs": [
    {
     "data": {
      "image/png": "[encoded data removed]",
      "text/plain": [
       "<Figure size 432x288 with 1 Axes>"
      ]
     },
     "metadata": {
      "needs_background": "light"
     },
     "output_type": "display_data"
    },
    {
     "data": {
      "image/png": "[encoded data removed]",
      "text/plain": [
       "<Figure size 432x288 with 1 Axes>"
      ]
     },
     "metadata": {
      "needs_background": "light"
     },
     "output_type": "display_data"
    }
   ],
   "source": [
    "ms_bin=np.linspace(33,df.msrp.max(),40)\n",
    "plt.hist(data=df, x='msrp');\n",
    "plt.show()\n",
    "plt.hist(data=df, x='msrp', bins=ms_bin);"
   ]
  },
  {
   "cell_type": "code",
   "execution_count": null,
   "id": "41d79a09-627e-4a96-8760-5708b22dc3cf",
   "metadata": {},
   "outputs": [],
   "source": []
  },
  {
   "cell_type": "code",
   "execution_count": null,
   "id": "90ebfae1-343c-4844-9a34-b4a42be54bb9",
   "metadata": {},
   "outputs": [],
   "source": []
  }
 ],
 "metadata": {
  "kernelspec": {
   "display_name": "Python 3 (ipykernel)",
   "language": "python",
   "name": "python3"
  },
  "language_info": {
   "codemirror_mode": {
    "name": "ipython",
    "version": 3
   },
   "file_extension": ".py",
   "mimetype": "text/x-python",
   "name": "python",
   "nbconvert_exporter": "python",
   "pygments_lexer": "ipython3",
   "version": "3.9.12"
  }
 },
 "nbformat": 4,
 "nbformat_minor": 5
}
