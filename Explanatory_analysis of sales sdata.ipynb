{
 "cells": [
  {
   "cell_type": "markdown",
   "id": "71d08ef7-b462-4316-8275-6fb4bad06a33",
   "metadata": {},
   "source": [
    "# Explanatory Analysis of the Various Means of Transport Sales"
   ]
  },
  {
   "cell_type": "code",
   "execution_count": 2,
   "id": "edeb7b0c-d43f-4afb-8751-c7e3eef15e0a",
   "metadata": {},
   "outputs": [],
   "source": [
    "import pandas as pd\n",
    "import numpy as np\n",
    "import seaborn as sns"
   ]
  },
  {
   "cell_type": "code",
   "execution_count": null,
   "id": "dd8e87f8-af80-47fb-8876-19b9746784b4",
   "metadata": {},
   "outputs": [],
   "source": []
  },
  {
   "cell_type": "code",
   "execution_count": null,
   "id": "0fa25d2f-c758-4f03-8a0e-21d0c2cfa24c",
   "metadata": {},
   "outputs": [],
   "source": []
  }
 ],
 "metadata": {
  "kernelspec": {
   "display_name": "Python 3 (ipykernel)",
   "language": "python",
   "name": "python3"
  },
  "language_info": {
   "codemirror_mode": {
    "name": "ipython",
    "version": 3
   },
   "file_extension": ".py",
   "mimetype": "text/x-python",
   "name": "python",
   "nbconvert_exporter": "python",
   "pygments_lexer": "ipython3",
   "version": "3.9.12"
  }
 },
 "nbformat": 4,
 "nbformat_minor": 5
}
