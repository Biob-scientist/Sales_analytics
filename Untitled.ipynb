{
 "cells": [
  {
   "cell_type": "markdown",
   "id": "c5ca3ae0-724a-4bf8-adeb-ac5fae851e9f",
   "metadata": {},
   "source": [
    "# Sales data exploration"
   ]
  },
  {
   "cell_type": "code",
   "execution_count": 1,
   "id": "b9af524c-b7cc-44e4-a064-94a656be5015",
   "metadata": {},
   "outputs": [],
   "source": [
    "import numpy as np\n",
    "import pandas as pd\n",
    "import seaborn as sns\n",
    "import matplotlib.pyplot as plt"
   ]
  },
  {
   "cell_type": "code",
   "execution_count": 2,
   "id": "98921adc-ebf1-43e7-8e1e-78ec7f750e93",
   "metadata": {},
   "outputs": [],
   "source": [
    "df2=pd.read_excel(io='sales_rep.xlsx',sheet_name='Sales_rep',)\n"
   ]
  },
  {
   "cell_type": "code",
   "execution_count": 3,
   "id": "d58fe595-95ab-4e44-94c9-e85dd0fc36ff",
   "metadata": {},
   "outputs": [],
   "source": [
    "df=pd.read_excel(io='sales_rep.xlsx',sheet_name='sales_data_sample')"
   ]
  },
  {
   "cell_type": "code",
   "execution_count": 6,
   "id": "38eef3c9-9d74-4f13-8748-21ab09f4071a",
   "metadata": {},
   "outputs": [
    {
     "data": {
      "text/html": [
       "<div>\n",
       "<style scoped>\n",
       "    .dataframe tbody tr th:only-of-type {\n",
       "        vertical-align: middle;\n",
       "    }\n",
       "\n",
       "    .dataframe tbody tr th {\n",
       "        vertical-align: top;\n",
       "    }\n",
       "\n",
       "    .dataframe thead th {\n",
       "        text-align: right;\n",
       "    }\n",
       "</style>\n",
       "<table border=\"1\" class=\"dataframe\">\n",
       "  <thead>\n",
       "    <tr style=\"text-align: right;\">\n",
       "      <th></th>\n",
       "      <th>ORDERNUMBER</th>\n",
       "      <th>QUANTITYORDERED</th>\n",
       "      <th>PRICEEACH</th>\n",
       "      <th>ORDERLINENUMBER</th>\n",
       "      <th>SALES</th>\n",
       "      <th>ORDERDATE</th>\n",
       "      <th>STATUS</th>\n",
       "      <th>PRODUCTLINE</th>\n",
       "      <th>MSRP</th>\n",
       "      <th>PRODUCTCODE</th>\n",
       "      <th>CUSTOMERNAME</th>\n",
       "      <th>CITY</th>\n",
       "      <th>POSTALCODE</th>\n",
       "      <th>COUNTRY</th>\n",
       "      <th>DEALSIZE</th>\n",
       "    </tr>\n",
       "  </thead>\n",
       "  <tbody>\n",
       "    <tr>\n",
       "      <th>0</th>\n",
       "      <td>10223</td>\n",
       "      <td>37</td>\n",
       "      <td>100.00</td>\n",
       "      <td>1</td>\n",
       "      <td>3965.66</td>\n",
       "      <td>2/20/2004 0:00</td>\n",
       "      <td>Shipped</td>\n",
       "      <td>Motorcycles</td>\n",
       "      <td>95</td>\n",
       "      <td>S10_1678</td>\n",
       "      <td>Australian Collectors, Co.</td>\n",
       "      <td>Melbourne</td>\n",
       "      <td>3004</td>\n",
       "      <td>Australia</td>\n",
       "      <td>Medium</td>\n",
       "    </tr>\n",
       "    <tr>\n",
       "      <th>1</th>\n",
       "      <td>10309</td>\n",
       "      <td>41</td>\n",
       "      <td>100.00</td>\n",
       "      <td>5</td>\n",
       "      <td>4394.38</td>\n",
       "      <td>10/15/2004 0:00</td>\n",
       "      <td>Shipped</td>\n",
       "      <td>Motorcycles</td>\n",
       "      <td>95</td>\n",
       "      <td>S10_1678</td>\n",
       "      <td>Baane Mini Imports</td>\n",
       "      <td>Stavern</td>\n",
       "      <td>4110</td>\n",
       "      <td>Norway</td>\n",
       "      <td>Medium</td>\n",
       "    </tr>\n",
       "    <tr>\n",
       "      <th>2</th>\n",
       "      <td>10318</td>\n",
       "      <td>46</td>\n",
       "      <td>94.74</td>\n",
       "      <td>1</td>\n",
       "      <td>4358.04</td>\n",
       "      <td>2004-02-11 00:00:00</td>\n",
       "      <td>Shipped</td>\n",
       "      <td>Motorcycles</td>\n",
       "      <td>95</td>\n",
       "      <td>S10_1678</td>\n",
       "      <td>Diecast Classics Inc.</td>\n",
       "      <td>Allentown</td>\n",
       "      <td>70267</td>\n",
       "      <td>USA</td>\n",
       "      <td>Medium</td>\n",
       "    </tr>\n",
       "    <tr>\n",
       "      <th>3</th>\n",
       "      <td>10174</td>\n",
       "      <td>34</td>\n",
       "      <td>100.00</td>\n",
       "      <td>4</td>\n",
       "      <td>8014.82</td>\n",
       "      <td>2003-06-11 00:00:00</td>\n",
       "      <td>Shipped</td>\n",
       "      <td>Classic Cars</td>\n",
       "      <td>214</td>\n",
       "      <td>S10_1949</td>\n",
       "      <td>Australian Gift Network, Co</td>\n",
       "      <td>South Brisbane</td>\n",
       "      <td>4101</td>\n",
       "      <td>Australia</td>\n",
       "      <td>Large</td>\n",
       "    </tr>\n",
       "    <tr>\n",
       "      <th>4</th>\n",
       "      <td>10194</td>\n",
       "      <td>42</td>\n",
       "      <td>100.00</td>\n",
       "      <td>11</td>\n",
       "      <td>7290.36</td>\n",
       "      <td>11/25/2003 0:00</td>\n",
       "      <td>Shipped</td>\n",
       "      <td>Classic Cars</td>\n",
       "      <td>214</td>\n",
       "      <td>S10_1949</td>\n",
       "      <td>Saveley &amp; Henriot, Co.</td>\n",
       "      <td>Lyon</td>\n",
       "      <td>69004</td>\n",
       "      <td>France</td>\n",
       "      <td>Large</td>\n",
       "    </tr>\n",
       "  </tbody>\n",
       "</table>\n",
       "</div>"
      ],
      "text/plain": [
       "   ORDERNUMBER  QUANTITYORDERED  PRICEEACH  ORDERLINENUMBER    SALES  \\\n",
       "0        10223               37     100.00                1  3965.66   \n",
       "1        10309               41     100.00                5  4394.38   \n",
       "2        10318               46      94.74                1  4358.04   \n",
       "3        10174               34     100.00                4  8014.82   \n",
       "4        10194               42     100.00               11  7290.36   \n",
       "\n",
       "             ORDERDATE   STATUS   PRODUCTLINE  MSRP PRODUCTCODE  \\\n",
       "0       2/20/2004 0:00  Shipped   Motorcycles    95    S10_1678   \n",
       "1      10/15/2004 0:00  Shipped   Motorcycles    95    S10_1678   \n",
       "2  2004-02-11 00:00:00  Shipped   Motorcycles    95    S10_1678   \n",
       "3  2003-06-11 00:00:00  Shipped  Classic Cars   214    S10_1949   \n",
       "4      11/25/2003 0:00  Shipped  Classic Cars   214    S10_1949   \n",
       "\n",
       "                  CUSTOMERNAME            CITY POSTALCODE    COUNTRY DEALSIZE  \n",
       "0   Australian Collectors, Co.       Melbourne       3004  Australia   Medium  \n",
       "1           Baane Mini Imports         Stavern       4110     Norway   Medium  \n",
       "2        Diecast Classics Inc.       Allentown      70267        USA   Medium  \n",
       "3  Australian Gift Network, Co  South Brisbane       4101  Australia    Large  \n",
       "4       Saveley & Henriot, Co.            Lyon      69004     France    Large  "
      ]
     },
     "execution_count": 6,
     "metadata": {},
     "output_type": "execute_result"
    }
   ],
   "source": [
    "df.iloc[:,1:].head()"
   ]
  },
  {
   "cell_type": "code",
   "execution_count": 7,
   "id": "e884c482-8a13-41b4-95da-68bfb9b39364",
   "metadata": {},
   "outputs": [],
   "source": [
    "df=df.iloc[:,1:].merge(df2.iloc[:,:2],left_on='ORDERLINENUMBER',right_on='SALES_REP_ID')"
   ]
  },
  {
   "cell_type": "code",
   "execution_count": 9,
   "id": "283ee170-408b-494d-8abd-d2f27107a88d",
   "metadata": {},
   "outputs": [
    {
     "data": {
      "text/html": [
       "<div>\n",
       "<style scoped>\n",
       "    .dataframe tbody tr th:only-of-type {\n",
       "        vertical-align: middle;\n",
       "    }\n",
       "\n",
       "    .dataframe tbody tr th {\n",
       "        vertical-align: top;\n",
       "    }\n",
       "\n",
       "    .dataframe thead th {\n",
       "        text-align: right;\n",
       "    }\n",
       "</style>\n",
       "<table border=\"1\" class=\"dataframe\">\n",
       "  <thead>\n",
       "    <tr style=\"text-align: right;\">\n",
       "      <th></th>\n",
       "      <th>ORDERNUMBER</th>\n",
       "      <th>QUANTITYORDERED</th>\n",
       "      <th>PRICEEACH</th>\n",
       "      <th>ORDERLINENUMBER</th>\n",
       "      <th>SALES</th>\n",
       "      <th>ORDERDATE</th>\n",
       "      <th>STATUS</th>\n",
       "      <th>PRODUCTLINE</th>\n",
       "      <th>MSRP</th>\n",
       "      <th>PRODUCTCODE</th>\n",
       "      <th>CUSTOMERNAME</th>\n",
       "      <th>CITY</th>\n",
       "      <th>POSTALCODE</th>\n",
       "      <th>COUNTRY</th>\n",
       "      <th>DEALSIZE</th>\n",
       "      <th>SALES_REP_ID</th>\n",
       "      <th>Name</th>\n",
       "    </tr>\n",
       "  </thead>\n",
       "  <tbody>\n",
       "    <tr>\n",
       "      <th>0</th>\n",
       "      <td>10223</td>\n",
       "      <td>37</td>\n",
       "      <td>100.00</td>\n",
       "      <td>1</td>\n",
       "      <td>3965.66</td>\n",
       "      <td>2/20/2004 0:00</td>\n",
       "      <td>Shipped</td>\n",
       "      <td>Motorcycles</td>\n",
       "      <td>95</td>\n",
       "      <td>S10_1678</td>\n",
       "      <td>Australian Collectors, Co.</td>\n",
       "      <td>Melbourne</td>\n",
       "      <td>3004</td>\n",
       "      <td>Australia</td>\n",
       "      <td>Medium</td>\n",
       "      <td>1</td>\n",
       "      <td>Harmani Calderoni</td>\n",
       "    </tr>\n",
       "    <tr>\n",
       "      <th>1</th>\n",
       "      <td>10318</td>\n",
       "      <td>46</td>\n",
       "      <td>94.74</td>\n",
       "      <td>1</td>\n",
       "      <td>4358.04</td>\n",
       "      <td>2004-02-11 00:00:00</td>\n",
       "      <td>Shipped</td>\n",
       "      <td>Motorcycles</td>\n",
       "      <td>95</td>\n",
       "      <td>S10_1678</td>\n",
       "      <td>Diecast Classics Inc.</td>\n",
       "      <td>Allentown</td>\n",
       "      <td>70267</td>\n",
       "      <td>USA</td>\n",
       "      <td>Medium</td>\n",
       "      <td>1</td>\n",
       "      <td>Harmani Calderoni</td>\n",
       "    </tr>\n",
       "  </tbody>\n",
       "</table>\n",
       "</div>"
      ],
      "text/plain": [
       "   ORDERNUMBER  QUANTITYORDERED  PRICEEACH  ORDERLINENUMBER    SALES  \\\n",
       "0        10223               37     100.00                1  3965.66   \n",
       "1        10318               46      94.74                1  4358.04   \n",
       "\n",
       "             ORDERDATE   STATUS  PRODUCTLINE  MSRP PRODUCTCODE  \\\n",
       "0       2/20/2004 0:00  Shipped  Motorcycles    95    S10_1678   \n",
       "1  2004-02-11 00:00:00  Shipped  Motorcycles    95    S10_1678   \n",
       "\n",
       "                 CUSTOMERNAME       CITY POSTALCODE    COUNTRY DEALSIZE  \\\n",
       "0  Australian Collectors, Co.  Melbourne       3004  Australia   Medium   \n",
       "1       Diecast Classics Inc.  Allentown      70267        USA   Medium   \n",
       "\n",
       "   SALES_REP_ID               Name  \n",
       "0             1  Harmani Calderoni  \n",
       "1             1  Harmani Calderoni  "
      ]
     },
     "execution_count": 9,
     "metadata": {},
     "output_type": "execute_result"
    }
   ],
   "source": [
    "df.head(2)"
   ]
  },
  {
   "cell_type": "code",
   "execution_count": 11,
   "id": "825718a6-800f-4170-b061-8910de45603f",
   "metadata": {},
   "outputs": [
    {
     "data": {
      "image/png": "[encoded data removed]",
      "text/plain": [
       "<Figure size 432x288 with 1 Axes>"
      ]
     },
     "metadata": {
      "needs_background": "light"
     },
     "output_type": "display_data"
    }
   ],
   "source": [
    "b_color=sns.color_palette()[0]\n",
    "y_order=df.Name.value_counts(ascending=False)\n",
    "sns.countplot(data=df,y='Name',color=b_color,order=y_order.index);"
   ]
  },
  {
   "cell_type": "markdown",
   "id": "966a4ebe-9bd2-4815-9888-e2a107da5752",
   "metadata": {},
   "source": [
    "> Harmani Calderoni was able to pull about 300 (10.9%) customers within the period given in the data\n",
    "\n",
    ">Theodore Drayers Pulled the least number of customers, 10 (0.4%)\n",
    "\n",
    "> However, this visualization does not indicate which sales rep generated the most or the least revenue through out the period given in the data"
   ]
  },
  {
   "cell_type": "code",
   "execution_count": 12,
   "id": "f823e1c9-1e24-48e4-809d-9c828817ac9d",
   "metadata": {},
   "outputs": [
    {
     "data": {
      "image/png": "[encoded data removed]",
      "text/plain": [
       "<Figure size 432x288 with 1 Axes>"
      ]
     },
     "metadata": {
      "needs_background": "light"
     },
     "output_type": "display_data"
    }
   ],
   "source": [
    "plt.hist(data=df,x='QUANTITYORDERED');"
   ]
  },
  {
   "cell_type": "code",
   "execution_count": 13,
   "id": "ae528262-4c61-4b66-adeb-7d081769f1d3",
   "metadata": {},
   "outputs": [
    {
     "data": {
      "text/plain": [
       "count    2823.000000\n",
       "mean       35.092809\n",
       "std         9.741443\n",
       "min         6.000000\n",
       "25%        27.000000\n",
       "50%        35.000000\n",
       "75%        43.000000\n",
       "max        97.000000\n",
       "Name: QUANTITYORDERED, dtype: float64"
      ]
     },
     "execution_count": 13,
     "metadata": {},
     "output_type": "execute_result"
    }
   ],
   "source": [
    "df.QUANTITYORDERED.describe()"
   ]
  },
  {
   "cell_type": "code",
   "execution_count": 16,
   "id": "125c2b87-2021-49f0-8e7f-92740d051557",
   "metadata": {},
   "outputs": [],
   "source": [
    "bins=np.arange(2,df.QUANTITYORDERED.max()+2,2)"
   ]
  },
  {
   "cell_type": "code",
   "execution_count": 17,
   "id": "0f4d1b8a-1a2d-44a2-aedf-1db163cc2739",
   "metadata": {},
   "outputs": [
    {
     "data": {
      "image/png": "[encoded data removed]",
      "text/plain": [
       "<Figure size 432x288 with 1 Axes>"
      ]
     },
     "metadata": {
      "needs_background": "light"
     },
     "output_type": "display_data"
    }
   ],
   "source": [
    "plt.hist(data=df,x='QUANTITYORDERED',bins=bins);"
   ]
  },
  {
   "cell_type": "markdown",
   "id": "72c00f27-ba4e-4a22-b349-5099b0f670b0",
   "metadata": {},
   "source": [
    "Uniformity: Non-uniform\n",
    "Mode:multi-modal,tri-modal\n",
    "Adjacency of the bars:takes on continuous range of values between 6 and 100\n",
    "Overall, a generally multi-imodal distribution is observed (one with three peaks or humps). The direct adjacency of the bars in the histogram, in contrast to the separated bars in a bar chart, emphasizes the fact that the data takes on a continuous range of values."
   ]
  },
  {
   "cell_type": "code",
   "execution_count": 18,
   "id": "a8e9208d-7263-4a79-84d9-35d0a039871e",
   "metadata": {},
   "outputs": [
    {
     "data": {
      "image/png": "[encoded data removed]",
      "text/plain": [
       "<Figure size 432x288 with 1 Axes>"
      ]
     },
     "metadata": {
      "needs_background": "light"
     },
     "output_type": "display_data"
    }
   ],
   "source": [
    "sns.histplot(df['QUANTITYORDERED'],bins=bins);"
   ]
  },
  {
   "cell_type": "markdown",
   "id": "dd03e0d6-87a0-435b-8f26-c47f8df174fa",
   "metadata": {},
   "source": [
    "> Orders made by customers range between 6 and 97\n",
    "\n",
    "> There is a high proportion of orders between 20 and 50 placed by the customers\n",
    "\n",
    "> Majority of customers made 20-50 orders within the period given in the data \n",
    "\n",
    "> Very few customers placed orders less than 20 times\n",
    "\n",
    "> Fewer customers place orders more than 50 times\n"
   ]
  },
  {
   "cell_type": "code",
   "execution_count": 33,
   "id": "6a5d4a8b-5c8e-4b1f-8112-ed099994d9c8",
   "metadata": {},
   "outputs": [
    {
     "data": {
      "image/png": "[encoded data removed]",
      "text/plain": [
       "<Figure size 432x288 with 1 Axes>"
      ]
     },
     "metadata": {
      "needs_background": "light"
     },
     "output_type": "display_data"
    }
   ],
   "source": [
    "sns.histplot(df['PRICEEACH']);"
   ]
  },
  {
   "cell_type": "markdown",
   "id": "df2086ba-5dc2-4fab-a28a-bf4c8a80965d",
   "metadata": {},
   "source": [
    "> Non-uniform, uni-modal distribution\n"
   ]
  },
  {
   "cell_type": "code",
   "execution_count": 34,
   "id": "55ef1fe9-55d3-44e6-afb7-be1e489210ab",
   "metadata": {},
   "outputs": [
    {
     "data": {
      "text/plain": [
       "count    2823.000000\n",
       "mean       83.658544\n",
       "std        20.174277\n",
       "min        26.880000\n",
       "25%        68.860000\n",
       "50%        95.700000\n",
       "75%       100.000000\n",
       "max       100.000000\n",
       "Name: PRICEEACH, dtype: float64"
      ]
     },
     "execution_count": 34,
     "metadata": {},
     "output_type": "execute_result"
    }
   ],
   "source": [
    "df['PRICEEACH'].describe()"
   ]
  },
  {
   "cell_type": "code",
   "execution_count": 35,
   "id": "8bc14ab4-08ff-43e4-88fd-9469904fe9f7",
   "metadata": {},
   "outputs": [],
   "source": [
    "price_bins=np.arange(26 ,df.PRICEEACH.max()+2,2)"
   ]
  },
  {
   "cell_type": "code",
   "execution_count": 45,
   "id": "c1cf26b1-aa74-473c-876e-921213cb155c",
   "metadata": {},
   "outputs": [
    {
     "data": {
      "image/png": "[encoded data removed]",
      "text/plain": [
       "<Figure size 1440x360 with 2 Axes>"
      ]
     },
     "metadata": {
      "needs_background": "light"
     },
     "output_type": "display_data"
    }
   ],
   "source": [
    "plt.figure(figsize=[20,5])\n",
    "plt.subplot(1,2,1)\n",
    "sns.histplot(df['PRICEEACH'],bins=price_bins);\n",
    "\n",
    "plt.subplot(1,2,2)\n",
    "sns.histplot(df[df['PRICEEACH']<100]['PRICEEACH'],bins=price_bins);"
   ]
  },
  {
   "cell_type": "markdown",
   "id": "a2bdf613-5da7-407e-ad8b-ed06c64d835b",
   "metadata": {},
   "source": [
    "> The price of each product ranges between 26 and 100\n",
    "\n",
    ">Products with tag price $100 were the most sold (about 1300 times) throughout\n",
    "\n",
    "> Products with prices below $100 were sold less than 70 times\n",
    "\n"
   ]
  },
  {
   "cell_type": "code",
   "execution_count": 58,
   "id": "fca3c834-c00c-4f64-8fc1-8545843ea149",
   "metadata": {},
   "outputs": [
    {
     "data": {
      "image/png": "[encoded data removed]",
      "text/plain": [
       "<Figure size 432x288 with 1 Axes>"
      ]
     },
     "metadata": {
      "needs_background": "light"
     },
     "output_type": "display_data"
    }
   ],
   "source": [
    "plt.hist(data=df, x='SALES');"
   ]
  },
  {
   "cell_type": "markdown",
   "id": "9ff9125d-2813-4f87-b51a-e89feae9ad20",
   "metadata": {},
   "source": [
    "> Non-uniform, unimodal distribution  with right tail (skewed to the right)\n"
   ]
  },
  {
   "cell_type": "code",
   "execution_count": 61,
   "id": "acdc66bc-c912-41c1-8446-e62c51ecb64b",
   "metadata": {},
   "outputs": [
    {
     "data": {
      "text/plain": [
       "count    2823.000000\n",
       "mean        3.493977\n",
       "std         0.226408\n",
       "min         2.683164\n",
       "25%         3.343099\n",
       "50%         3.503082\n",
       "75%         3.653984\n",
       "max         4.148689\n",
       "Name: SALES, dtype: float64"
      ]
     },
     "execution_count": 61,
     "metadata": {},
     "output_type": "execute_result"
    }
   ],
   "source": [
    "np.log10(df['SALES']).describe()"
   ]
  },
  {
   "cell_type": "code",
   "execution_count": 122,
   "id": "9b7407ef-9cea-4724-933a-e5c0a9b28318",
   "metadata": {},
   "outputs": [
    {
     "data": {
      "image/png": "[encoded data removed]",
      "text/plain": [
       "<Figure size 432x288 with 1 Axes>"
      ]
     },
     "metadata": {
      "needs_background": "light"
     },
     "output_type": "display_data"
    }
   ],
   "source": [
    "sales_bins=10**np.arange(2.6,4.1+0.05,0.05)\n",
    "plt.hist(data=df, x='SALES',bins=sales_bins)\n",
    "plt.xscale('log')\n",
    "\n",
    "ticks=[630,1260,2520,5040,10080]\n",
    "labels=['{}'.format(x) for x in ticks]\n",
    "\n",
    "plt.xticks(ticks,labels)\n",
    "plt.show()"
   ]
  },
  {
   "cell_type": "markdown",
   "id": "a6a42beb-43fb-4b3f-86d8-f9fd2f3e2c5f",
   "metadata": {},
   "source": [
    "> Sales' distribution ranges between $482-14082\n",
    "\n",
    "> The mode of the distribution is around $3000\n",
    "\n",
    ">The distribution is slightly skewed to the left \n"
   ]
  },
  {
   "cell_type": "code",
   "execution_count": 132,
   "id": "8a32d3ae-876d-48b4-8e32-c192bd012277",
   "metadata": {},
   "outputs": [
    {
     "data": {
      "image/png": "[encoded data removed]",
      "text/plain": [
       "<Figure size 432x288 with 1 Axes>"
      ]
     },
     "metadata": {
      "needs_background": "light"
     },
     "output_type": "display_data"
    }
   ],
   "source": [
    "sns.countplot(data=df,x='STATUS',color=b_color,order=df.STATUS.value_counts().index);"
   ]
  },
  {
   "cell_type": "markdown",
   "id": "343cad97-5c70-4977-9d60-729aee2fd9ed",
   "metadata": {},
   "source": [
    "> more than 2500 orders (92.7%) were shipped\n",
    "\n",
    "> About 2.1% orders couldn't be resolved, they were cancelled\n",
    "\n",
    "> Minimal disputed orders (0.5%)"
   ]
  },
  {
   "cell_type": "code",
   "execution_count": 139,
   "id": "8a50503c-392e-40bc-86f8-16dbcfacef3a",
   "metadata": {},
   "outputs": [
    {
     "data": {
      "image/png": "[encoded data removed]",
      "text/plain": [
       "<Figure size 432x288 with 1 Axes>"
      ]
     },
     "metadata": {
      "needs_background": "light"
     },
     "output_type": "display_data"
    }
   ],
   "source": [
    "sns.countplot(data=df,y='PRODUCTLINE',color=b_color,order=df.PRODUCTLINE.value_counts().index);"
   ]
  },
  {
   "cell_type": "markdown",
   "id": "959f82a5-4f0e-4416-b9d9-115879223265",
   "metadata": {},
   "source": [
    "> Classics cars were ordered the most, representing about 34% of the company's product line\n",
    "\n",
    "> The least product line ordered throughout were trains\n",
    "\n",
    "> The number of times Plains were ordered is equal to the number of times ships and trains were ordered combined"
   ]
  },
  {
   "cell_type": "code",
   "execution_count": 153,
   "id": "66ccf885-fd88-4980-8095-079cd599f742",
   "metadata": {},
   "outputs": [
    {
     "data": {
      "text/html": [
       "<div>\n",
       "<style scoped>\n",
       "    .dataframe tbody tr th:only-of-type {\n",
       "        vertical-align: middle;\n",
       "    }\n",
       "\n",
       "    .dataframe tbody tr th {\n",
       "        vertical-align: top;\n",
       "    }\n",
       "\n",
       "    .dataframe thead th {\n",
       "        text-align: right;\n",
       "    }\n",
       "</style>\n",
       "<table border=\"1\" class=\"dataframe\">\n",
       "  <thead>\n",
       "    <tr style=\"text-align: right;\">\n",
       "      <th></th>\n",
       "      <th>CUSTOMERNAME</th>\n",
       "    </tr>\n",
       "  </thead>\n",
       "  <tbody>\n",
       "    <tr>\n",
       "      <th>Euro Shopping Channel</th>\n",
       "      <td>259</td>\n",
       "    </tr>\n",
       "    <tr>\n",
       "      <th>Mini Gifts Distributors Ltd.</th>\n",
       "      <td>180</td>\n",
       "    </tr>\n",
       "    <tr>\n",
       "      <th>Australian Collectors, Co.</th>\n",
       "      <td>55</td>\n",
       "    </tr>\n",
       "    <tr>\n",
       "      <th>La Rochelle Gifts</th>\n",
       "      <td>53</td>\n",
       "    </tr>\n",
       "    <tr>\n",
       "      <th>AV Stores, Co.</th>\n",
       "      <td>51</td>\n",
       "    </tr>\n",
       "    <tr>\n",
       "      <th>Land of Toys Inc.</th>\n",
       "      <td>49</td>\n",
       "    </tr>\n",
       "    <tr>\n",
       "      <th>Muscle Machine Inc</th>\n",
       "      <td>48</td>\n",
       "    </tr>\n",
       "    <tr>\n",
       "      <th>Rovelli Gifts</th>\n",
       "      <td>48</td>\n",
       "    </tr>\n",
       "    <tr>\n",
       "      <th>Anna's Decorations, Ltd</th>\n",
       "      <td>46</td>\n",
       "    </tr>\n",
       "    <tr>\n",
       "      <th>Souveniers And Things Co.</th>\n",
       "      <td>46</td>\n",
       "    </tr>\n",
       "  </tbody>\n",
       "</table>\n",
       "</div>"
      ],
      "text/plain": [
       "                              CUSTOMERNAME\n",
       "Euro Shopping Channel                  259\n",
       "Mini Gifts Distributors Ltd.           180\n",
       "Australian Collectors, Co.              55\n",
       "La Rochelle Gifts                       53\n",
       "AV Stores, Co.                          51\n",
       "Land of Toys Inc.                       49\n",
       "Muscle Machine Inc                      48\n",
       "Rovelli Gifts                           48\n",
       "Anna's Decorations, Ltd                 46\n",
       "Souveniers And Things Co.               46"
      ]
     },
     "execution_count": 153,
     "metadata": {},
     "output_type": "execute_result"
    }
   ],
   "source": [
    "# top 10 customers according to number of transactions made\n",
    "pd.DataFrame(df.CUSTOMERNAME.value_counts()).head(10)"
   ]
  },
  {
   "cell_type": "code",
   "execution_count": 154,
   "id": "f0cb861c-8b59-4a9a-ac30-325fe8566882",
   "metadata": {},
   "outputs": [
    {
     "data": {
      "text/html": [
       "<div>\n",
       "<style scoped>\n",
       "    .dataframe tbody tr th:only-of-type {\n",
       "        vertical-align: middle;\n",
       "    }\n",
       "\n",
       "    .dataframe tbody tr th {\n",
       "        vertical-align: top;\n",
       "    }\n",
       "\n",
       "    .dataframe thead th {\n",
       "        text-align: right;\n",
       "    }\n",
       "</style>\n",
       "<table border=\"1\" class=\"dataframe\">\n",
       "  <thead>\n",
       "    <tr style=\"text-align: right;\">\n",
       "      <th></th>\n",
       "      <th>CUSTOMERNAME</th>\n",
       "    </tr>\n",
       "  </thead>\n",
       "  <tbody>\n",
       "    <tr>\n",
       "      <th>Men 'R' US Retailers, Ltd.</th>\n",
       "      <td>14</td>\n",
       "    </tr>\n",
       "    <tr>\n",
       "      <th>CAF Imports</th>\n",
       "      <td>13</td>\n",
       "    </tr>\n",
       "    <tr>\n",
       "      <th>West Coast Collectables Co.</th>\n",
       "      <td>13</td>\n",
       "    </tr>\n",
       "    <tr>\n",
       "      <th>Double Decker Gift Stores, Ltd</th>\n",
       "      <td>12</td>\n",
       "    </tr>\n",
       "    <tr>\n",
       "      <th>Cambridge Collectables Co.</th>\n",
       "      <td>11</td>\n",
       "    </tr>\n",
       "    <tr>\n",
       "      <th>Microscale Inc.</th>\n",
       "      <td>10</td>\n",
       "    </tr>\n",
       "    <tr>\n",
       "      <th>Royale Belge</th>\n",
       "      <td>8</td>\n",
       "    </tr>\n",
       "    <tr>\n",
       "      <th>Auto-Moto Classics Inc.</th>\n",
       "      <td>8</td>\n",
       "    </tr>\n",
       "    <tr>\n",
       "      <th>Atelier graphique</th>\n",
       "      <td>7</td>\n",
       "    </tr>\n",
       "    <tr>\n",
       "      <th>Boards &amp; Toys Co.</th>\n",
       "      <td>3</td>\n",
       "    </tr>\n",
       "  </tbody>\n",
       "</table>\n",
       "</div>"
      ],
      "text/plain": [
       "                                CUSTOMERNAME\n",
       "Men 'R' US Retailers, Ltd.                14\n",
       "CAF Imports                               13\n",
       "West Coast Collectables Co.               13\n",
       "Double Decker Gift Stores, Ltd            12\n",
       "Cambridge Collectables Co.                11\n",
       "Microscale Inc.                           10\n",
       "Royale Belge                               8\n",
       "Auto-Moto Classics Inc.                    8\n",
       "Atelier graphique                          7\n",
       "Boards & Toys Co.                          3"
      ]
     },
     "execution_count": 154,
     "metadata": {},
     "output_type": "execute_result"
    }
   ],
   "source": [
    "# least performing customers according to number of transactions made\n",
    "pd.DataFrame(df.CUSTOMERNAME.value_counts()).tail(10)"
   ]
  },
  {
   "cell_type": "code",
   "execution_count": 158,
   "id": "02ee727a-9355-4351-aac2-5ce8308d7c7e",
   "metadata": {},
   "outputs": [
    {
     "data": {
      "image/png": "[encoded data removed]",
      "text/plain": [
       "<Figure size 432x288 with 1 Axes>"
      ]
     },
     "metadata": {
      "needs_background": "light"
     },
     "output_type": "display_data"
    }
   ],
   "source": [
    "sns.countplot(data=df,y='COUNTRY',color=b_color,order=df.COUNTRY.value_counts().index);"
   ]
  },
  {
   "cell_type": "markdown",
   "id": "208783f6-e1d6-439f-9d46-d5e5d1ee3bdd",
   "metadata": {},
   "source": [
    "> Most transactions were from US customers (35.6%)\n",
    "\n",
    "> The least transactions were from Ireland"
   ]
  },
  {
   "cell_type": "code",
   "execution_count": 170,
   "id": "0915795a-ed2f-4bcf-9106-102337b7cf87",
   "metadata": {},
   "outputs": [
    {
     "data": {
      "image/png": "[encoded data removed]",
      "text/plain": [
       "<Figure size 432x288 with 1 Axes>"
      ]
     },
     "metadata": {
      "needs_background": "light"
     },
     "output_type": "display_data"
    }
   ],
   "source": [
    "sns.countplot(data=df,x='DEALSIZE',color=b_color,order=df.DEALSIZE.value_counts().index);"
   ]
  },
  {
   "cell_type": "markdown",
   "id": "2834d90e-0daf-4a6c-a37a-ac1a34b6698a",
   "metadata": {},
   "source": [
    "> Three unique deal sizes were represented in the data\n",
    "\n",
    "> Of the deal sizes, the Large deal size were the least considering number of transactions"
   ]
  },
  {
   "cell_type": "code",
   "execution_count": 173,
   "id": "b7298841-05c1-4b98-aa72-215466e2fa76",
   "metadata": {},
   "outputs": [
    {
     "data": {
      "text/plain": [
       "count    2823.000000\n",
       "mean      100.715551\n",
       "std        40.187912\n",
       "min        33.000000\n",
       "25%        68.000000\n",
       "50%        99.000000\n",
       "75%       124.000000\n",
       "max       214.000000\n",
       "Name: MSRP, dtype: float64"
      ]
     },
     "execution_count": 173,
     "metadata": {},
     "output_type": "execute_result"
    }
   ],
   "source": [
    "df.MSRP.describe()"
   ]
  },
  {
   "cell_type": "code",
   "execution_count": 182,
   "id": "1873d5d4-c4b4-41df-b944-b804b854bef4",
   "metadata": {},
   "outputs": [
    {
     "data": {
      "image/png": "[encoded data removed]",
      "text/plain": [
       "<Figure size 432x288 with 1 Axes>"
      ]
     },
     "metadata": {
      "needs_background": "light"
     },
     "output_type": "display_data"
    }
   ],
   "source": [
    "ms_bin=np.arange(33,214+5,5)\n",
    "plt.hist(data=df, x='MSRP',bins=ms_bin);"
   ]
  },
  {
   "cell_type": "code",
   "execution_count": null,
   "id": "df0f1053-64dd-4da8-890f-0c1f0225992c",
   "metadata": {},
   "outputs": [],
   "source": []
  },
  {
   "cell_type": "code",
   "execution_count": 187,
   "id": "196607b4-867b-4efb-af96-bbabd9bf5448",
   "metadata": {},
   "outputs": [
    {
     "data": {
      "image/png": "[encoded data removed]",
      "text/plain": [
       "<Figure size 432x288 with 1 Axes>"
      ]
     },
     "metadata": {
      "needs_background": "light"
     },
     "output_type": "display_data"
    }
   ],
   "source": [
    "plt.scatter(data=df,x='MSRP',y='SALES')\n",
    "plt.show()"
   ]
  },
  {
   "cell_type": "code",
   "execution_count": 207,
   "id": "1d1df595-02ca-423c-8abf-eefea9f71ceb",
   "metadata": {},
   "outputs": [
    {
     "data": {
      "image/png": "[encoded data removed]",
      "text/plain": [
       "<Figure size 432x288 with 1 Axes>"
      ]
     },
     "metadata": {
      "needs_background": "light"
     },
     "output_type": "display_data"
    }
   ],
   "source": [
    "sns.regplot(data = df, x = 'MSRP', y = 'SALES', truncate=False, x_jitter=5,scatter_kws={'alpha':1/20});"
   ]
  },
  {
   "cell_type": "code",
   "execution_count": 229,
   "id": "2f111200-c3f6-4015-9125-cab7392162ac",
   "metadata": {},
   "outputs": [],
   "source": [
    "x=df[['SALES']].groupby(df['ORDERDATE']).median()"
   ]
  },
  {
   "cell_type": "code",
   "execution_count": 238,
   "id": "be5968dc-6b52-4a50-b562-f7d6b2705d55",
   "metadata": {},
   "outputs": [],
   "source": [
    "table = pd.pivot_table(df, values='SALES', index=['ORDERDATE'],\n",
    "                     aggfunc=np.sum)"
   ]
  },
  {
   "cell_type": "code",
   "execution_count": 249,
   "id": "44d6e242-8536-43bd-aadf-985c1798fe03",
   "metadata": {},
   "outputs": [
    {
     "data": {
      "text/plain": [
       "0       2004\n",
       "1       2004\n",
       "2       2004\n",
       "3       2005\n",
       "4       2005\n",
       "        ... \n",
       "2818    2003\n",
       "2819    2003\n",
       "2820    2004\n",
       "2821    2003\n",
       "2822    2004\n",
       "Name: ORDERDATE, Length: 2823, dtype: int64"
      ]
     },
     "execution_count": 249,
     "metadata": {},
     "output_type": "execute_result"
    }
   ],
   "source": [
    "df.ORDERDATE.dt.year"
   ]
  },
  {
   "cell_type": "code",
   "execution_count": 261,
   "id": "dd295efe-f570-443e-a7fb-cf24d213fb79",
   "metadata": {},
   "outputs": [],
   "source": [
    "x=df[['ORDERDATE','SALES']]\n",
    "x=x.copy()"
   ]
  },
  {
   "cell_type": "code",
   "execution_count": 282,
   "id": "aea288bf-295c-4e58-90ea-bfe490d0db99",
   "metadata": {},
   "outputs": [],
   "source": [
    "x['year']=x['ORDERDATE'].dt.year\n",
    "x['month']=x['ORDERDATE'].dt.month_name()"
   ]
  },
  {
   "cell_type": "code",
   "execution_count": 283,
   "id": "6f02f348-b9ca-4405-8a96-39851473f636",
   "metadata": {},
   "outputs": [
    {
     "data": {
      "text/html": [
       "<div>\n",
       "<style scoped>\n",
       "    .dataframe tbody tr th:only-of-type {\n",
       "        vertical-align: middle;\n",
       "    }\n",
       "\n",
       "    .dataframe tbody tr th {\n",
       "        vertical-align: top;\n",
       "    }\n",
       "\n",
       "    .dataframe thead th {\n",
       "        text-align: right;\n",
       "    }\n",
       "</style>\n",
       "<table border=\"1\" class=\"dataframe\">\n",
       "  <thead>\n",
       "    <tr style=\"text-align: right;\">\n",
       "      <th></th>\n",
       "      <th>ORDERDATE</th>\n",
       "      <th>SALES</th>\n",
       "      <th>year</th>\n",
       "      <th>month</th>\n",
       "    </tr>\n",
       "  </thead>\n",
       "  <tbody>\n",
       "    <tr>\n",
       "      <th>0</th>\n",
       "      <td>2004-02-20</td>\n",
       "      <td>3965.66</td>\n",
       "      <td>2004</td>\n",
       "      <td>February</td>\n",
       "    </tr>\n",
       "    <tr>\n",
       "      <th>1</th>\n",
       "      <td>2004-02-11</td>\n",
       "      <td>4358.04</td>\n",
       "      <td>2004</td>\n",
       "      <td>February</td>\n",
       "    </tr>\n",
       "    <tr>\n",
       "      <th>2</th>\n",
       "      <td>2004-12-01</td>\n",
       "      <td>6123.40</td>\n",
       "      <td>2004</td>\n",
       "      <td>December</td>\n",
       "    </tr>\n",
       "    <tr>\n",
       "      <th>3</th>\n",
       "      <td>2005-09-02</td>\n",
       "      <td>5182.00</td>\n",
       "      <td>2005</td>\n",
       "      <td>September</td>\n",
       "    </tr>\n",
       "    <tr>\n",
       "      <th>4</th>\n",
       "      <td>2005-05-17</td>\n",
       "      <td>5202.94</td>\n",
       "      <td>2005</td>\n",
       "      <td>May</td>\n",
       "    </tr>\n",
       "    <tr>\n",
       "      <th>...</th>\n",
       "      <td>...</td>\n",
       "      <td>...</td>\n",
       "      <td>...</td>\n",
       "      <td>...</td>\n",
       "    </tr>\n",
       "    <tr>\n",
       "      <th>2818</th>\n",
       "      <td>2003-10-28</td>\n",
       "      <td>1971.54</td>\n",
       "      <td>2003</td>\n",
       "      <td>October</td>\n",
       "    </tr>\n",
       "    <tr>\n",
       "      <th>2819</th>\n",
       "      <td>2003-10-10</td>\n",
       "      <td>2162.16</td>\n",
       "      <td>2003</td>\n",
       "      <td>October</td>\n",
       "    </tr>\n",
       "    <tr>\n",
       "      <th>2820</th>\n",
       "      <td>2004-02-19</td>\n",
       "      <td>2280.24</td>\n",
       "      <td>2004</td>\n",
       "      <td>February</td>\n",
       "    </tr>\n",
       "    <tr>\n",
       "      <th>2821</th>\n",
       "      <td>2003-10-22</td>\n",
       "      <td>2204.10</td>\n",
       "      <td>2003</td>\n",
       "      <td>October</td>\n",
       "    </tr>\n",
       "    <tr>\n",
       "      <th>2822</th>\n",
       "      <td>2004-01-11</td>\n",
       "      <td>3573.60</td>\n",
       "      <td>2004</td>\n",
       "      <td>January</td>\n",
       "    </tr>\n",
       "  </tbody>\n",
       "</table>\n",
       "<p>2823 rows × 4 columns</p>\n",
       "</div>"
      ],
      "text/plain": [
       "      ORDERDATE    SALES  year      month\n",
       "0    2004-02-20  3965.66  2004   February\n",
       "1    2004-02-11  4358.04  2004   February\n",
       "2    2004-12-01  6123.40  2004   December\n",
       "3    2005-09-02  5182.00  2005  September\n",
       "4    2005-05-17  5202.94  2005        May\n",
       "...         ...      ...   ...        ...\n",
       "2818 2003-10-28  1971.54  2003    October\n",
       "2819 2003-10-10  2162.16  2003    October\n",
       "2820 2004-02-19  2280.24  2004   February\n",
       "2821 2003-10-22  2204.10  2003    October\n",
       "2822 2004-01-11  3573.60  2004    January\n",
       "\n",
       "[2823 rows x 4 columns]"
      ]
     },
     "execution_count": 283,
     "metadata": {},
     "output_type": "execute_result"
    }
   ],
   "source": [
    "x"
   ]
  },
  {
   "cell_type": "code",
   "execution_count": 290,
   "id": "f65cd73e-13a4-4525-929c-4ed0ca5cb3b6",
   "metadata": {},
   "outputs": [],
   "source": [
    "table=x['SALES'].groupby(x['year'],).sum()\n",
    "table2=x['SALES'].groupby(x['month'],).median()"
   ]
  },
  {
   "cell_type": "code",
   "execution_count": 291,
   "id": "b91c3c12-f58a-4fe8-bfae-8e4986f481bd",
   "metadata": {},
   "outputs": [
    {
     "data": {
      "text/plain": [
       "year\n",
       "2003    3516979.54\n",
       "2004    4724162.60\n",
       "2005    1791486.71\n",
       "Name: SALES, dtype: float64"
      ]
     },
     "execution_count": 291,
     "metadata": {},
     "output_type": "execute_result"
    }
   ],
   "source": [
    "table"
   ]
  },
  {
   "cell_type": "code",
   "execution_count": 292,
   "id": "a805bcf6-4215-407c-98fb-73b4bf4bc948",
   "metadata": {},
   "outputs": [
    {
     "data": {
      "image/png": "[encoded data removed]",
      "text/plain": [
       "<Figure size 432x288 with 1 Axes>"
      ]
     },
     "metadata": {
      "needs_background": "light"
     },
     "output_type": "display_data"
    }
   ],
   "source": [
    "plt.bar(table.index,table.values)\n",
    "ticks=[2003.0,2004.0,2005.0]\n",
    "plt.xticks(ticks,['2003','2004','2005'])\n",
    "plt.show()"
   ]
  },
  {
   "cell_type": "code",
   "execution_count": 279,
   "id": "84b41fb2-b082-4d01-a52d-b2e92eac7a83",
   "metadata": {},
   "outputs": [
    {
     "data": {
      "image/png": "[encoded data removed]",
      "text/plain": [
       "<Figure size 432x288 with 1 Axes>"
      ]
     },
     "metadata": {
      "needs_background": "light"
     },
     "output_type": "display_data"
    }
   ],
   "source": [
    "plt.plot(table.index,table.values);\n",
    "ticks=[2003.0,2004.0,2005.0]\n",
    "plt.xticks(ticks,['2003','2004','2005'])\n",
    "plt.show()"
   ]
  },
  {
   "cell_type": "code",
   "execution_count": 293,
   "id": "e519a90e-d188-4049-be36-303d00d3b372",
   "metadata": {},
   "outputs": [
    {
     "data": {
      "image/png": "[encoded data removed]",
      "text/plain": [
       "<Figure size 432x288 with 1 Axes>"
      ]
     },
     "metadata": {
      "needs_background": "light"
     },
     "output_type": "display_data"
    }
   ],
   "source": [
    "plt.figure=\n",
    "plt.plot(table2.index,table2.values);\n",
    "\n",
    "plt.show()"
   ]
  },
  {
   "cell_type": "code",
   "execution_count": 288,
   "id": "43169b01-0151-49b9-ab64-3686ddc58942",
   "metadata": {},
   "outputs": [
    {
     "data": {
      "text/plain": [
       "month\n",
       "April         744538.06\n",
       "August        723921.76\n",
       "December      438811.18\n",
       "February     1005383.81\n",
       "January       962396.71\n",
       "July          490103.29\n",
       "June          684918.75\n",
       "March         797370.26\n",
       "May           862597.77\n",
       "November     1489274.30\n",
       "October      1272067.31\n",
       "September     561245.65\n",
       "Name: SALES, dtype: float64"
      ]
     },
     "execution_count": 288,
     "metadata": {},
     "output_type": "execute_result"
    }
   ],
   "source": [
    "table2"
   ]
  },
  {
   "cell_type": "code",
   "execution_count": null,
   "id": "3cc13b5c-7720-4f8e-9c4d-6c9d7ed062aa",
   "metadata": {},
   "outputs": [],
   "source": []
  }
 ],
 "metadata": {
  "kernelspec": {
   "display_name": "Python 3 (ipykernel)",
   "language": "python",
   "name": "python3"
  },
  "language_info": {
   "codemirror_mode": {
    "name": "ipython",
    "version": 3
   },
   "file_extension": ".py",
   "mimetype": "text/x-python",
   "name": "python",
   "nbconvert_exporter": "python",
   "pygments_lexer": "ipython3",
   "version": "3.9.12"
  }
 },
 "nbformat": 4,
 "nbformat_minor": 5
}
